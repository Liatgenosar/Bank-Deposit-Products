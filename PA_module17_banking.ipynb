{
 "cells": [
  {
   "cell_type": "markdown",
   "id": "76762bab",
   "metadata": {},
   "source": [
    "# <font color= blue>Portuguese Banking Institution Marketing Campaigns</font>\n",
    "##  <font color= purple>A Comparison Between Four Clessifier Models - Will a Client Choose a Term Deposit.  A Project By Liat Genosar Roth.</font>\n",
    "###  <font color= blue>This Project was made for Practical Application Assignment, Module 17</font>"
   ]
  },
  {
   "cell_type": "markdown",
   "id": "22ee54ee",
   "metadata": {},
   "source": [
    "In this project, my goal is to compare the performance of 4 classifiers: k-nearest neighbors, logistic regression, decision trees, and SVM - support vector machines. \n",
    "\n",
    "Data:\n",
    "The dataset is related to the marketing of bank products over the telephone. It comes from the UCI Machine Learning repository. The data is from a Portuguese banking institution and is a collection of the results of multiple marketing campaigns.\n",
    "\n",
    "Deliverables:\n",
    "After understanding, preparing, and modeling your data, build a Jupyter Notebook that includes a clear statement demonstrating your understanding of the business problem, a correct and concise interpretation of descriptive and inferential statistics, your findings (including actionable insights), and next steps and recommendations."
   ]
  },
  {
   "cell_type": "markdown",
   "id": "78cea423",
   "metadata": {},
   "source": [
    "**About the dataset:**\n",
    "There are two datasets: \n",
    "      1) bank-full.csv with all examples, ordered by date (from May 2008 to November 2010).\n",
    "      2) bank.csv with 10% of the examples (4521), randomly selected from bank-full.csv.\n",
    "   The smallest dataset is provided to test more computationally demanding machine learning algorithms (e.g. SVM).\n",
    "\n",
    "**The classification goal is to predict if the client will subscribe a term deposit - the target - 'y' col.**\n",
    "\n",
    " - Number of Instances: 45211 for bank-full.csv (4521 for bank.csv)\n",
    "\n",
    " - Number of Features: 16 + output feature.\n",
    "\n"
   ]
  },
  {
   "cell_type": "code",
   "execution_count": 90,
   "id": "70b9ee96",
   "metadata": {},
   "outputs": [],
   "source": [
    "import pandas as pd\n",
    "import numpy as np\n",
    "\n",
    "import seaborn as sns\n",
    "import matplotlib.pyplot as plt\n",
    "import plotly.express as px\n",
    "\n",
    "from sklearn.preprocessing import OneHotEncoder, StandardScaler\n",
    "from sklearn.compose import make_column_transformer\n",
    "\n",
    "from sklearn.neighbors import KNeighborsRegressor\n",
    "from sklearn.neighbors import KNeighborsClassifier\n",
    "from sklearn.linear_model import LogisticRegression\n",
    "from sklearn.tree import DecisionTreeClassifier\n",
    "from sklearn.ensemble import RandomForestClassifier\n",
    "from sklearn.dummy import DummyClassifier\n",
    "from sklearn.svm import SVC\n",
    "\n",
    "from sklearn.pipeline import Pipeline\n",
    "from sklearn.model_selection import train_test_split, GridSearchCV\n",
    "\n",
    "from sklearn.metrics import confusion_matrix, ConfusionMatrixDisplay, classification_report\n",
    "from sklearn.metrics import accuracy_score, recall_score, precision_score, roc_auc_score\n",
    "from sklearn.metrics import mean_squared_error"
   ]
  },
  {
   "cell_type": "code",
   "execution_count": 92,
   "id": "643af7d5",
   "metadata": {},
   "outputs": [],
   "source": [
    "url = 'https://github.com/Liatgenosar/Bank-Deposit-Products/blob/main/bank-full.csv?raw=true'\n",
    "df = pd.read_csv(url, sep=';')"
   ]
  },
  {
   "cell_type": "markdown",
   "id": "c914c5de",
   "metadata": {},
   "source": [
    "##  <font color= darkred> Data Inspection</font>"
   ]
  },
  {
   "cell_type": "code",
   "execution_count": 93,
   "id": "068efc3d",
   "metadata": {},
   "outputs": [
    {
     "name": "stdout",
     "output_type": "stream",
     "text": [
      "<class 'pandas.core.frame.DataFrame'>\n",
      "RangeIndex: 45211 entries, 0 to 45210\n",
      "Data columns (total 17 columns):\n",
      " #   Column     Non-Null Count  Dtype \n",
      "---  ------     --------------  ----- \n",
      " 0   age        45211 non-null  int64 \n",
      " 1   job        45211 non-null  object\n",
      " 2   marital    45211 non-null  object\n",
      " 3   education  45211 non-null  object\n",
      " 4   default    45211 non-null  object\n",
      " 5   balance    45211 non-null  int64 \n",
      " 6   housing    45211 non-null  object\n",
      " 7   loan       45211 non-null  object\n",
      " 8   contact    45211 non-null  object\n",
      " 9   day        45211 non-null  int64 \n",
      " 10  month      45211 non-null  object\n",
      " 11  duration   45211 non-null  int64 \n",
      " 12  campaign   45211 non-null  int64 \n",
      " 13  pdays      45211 non-null  int64 \n",
      " 14  previous   45211 non-null  int64 \n",
      " 15  poutcome   45211 non-null  object\n",
      " 16  y          45211 non-null  object\n",
      "dtypes: int64(7), object(10)\n",
      "memory usage: 5.9+ MB\n"
     ]
    }
   ],
   "source": [
    "df.info()"
   ]
  },
  {
   "cell_type": "code",
   "execution_count": 7,
   "id": "a1769951",
   "metadata": {},
   "outputs": [
    {
     "data": {
      "text/html": [
       "<div>\n",
       "<style scoped>\n",
       "    .dataframe tbody tr th:only-of-type {\n",
       "        vertical-align: middle;\n",
       "    }\n",
       "\n",
       "    .dataframe tbody tr th {\n",
       "        vertical-align: top;\n",
       "    }\n",
       "\n",
       "    .dataframe thead th {\n",
       "        text-align: right;\n",
       "    }\n",
       "</style>\n",
       "<table border=\"1\" class=\"dataframe\">\n",
       "  <thead>\n",
       "    <tr style=\"text-align: right;\">\n",
       "      <th></th>\n",
       "      <th>age</th>\n",
       "      <th>job</th>\n",
       "      <th>marital</th>\n",
       "      <th>education</th>\n",
       "      <th>default</th>\n",
       "      <th>balance</th>\n",
       "      <th>housing</th>\n",
       "      <th>loan</th>\n",
       "      <th>contact</th>\n",
       "      <th>day</th>\n",
       "      <th>month</th>\n",
       "      <th>duration</th>\n",
       "      <th>campaign</th>\n",
       "      <th>pdays</th>\n",
       "      <th>previous</th>\n",
       "      <th>poutcome</th>\n",
       "      <th>y</th>\n",
       "    </tr>\n",
       "  </thead>\n",
       "  <tbody>\n",
       "    <tr>\n",
       "      <th>0</th>\n",
       "      <td>58</td>\n",
       "      <td>management</td>\n",
       "      <td>married</td>\n",
       "      <td>tertiary</td>\n",
       "      <td>no</td>\n",
       "      <td>2143</td>\n",
       "      <td>yes</td>\n",
       "      <td>no</td>\n",
       "      <td>unknown</td>\n",
       "      <td>5</td>\n",
       "      <td>may</td>\n",
       "      <td>261</td>\n",
       "      <td>1</td>\n",
       "      <td>-1</td>\n",
       "      <td>0</td>\n",
       "      <td>unknown</td>\n",
       "      <td>no</td>\n",
       "    </tr>\n",
       "    <tr>\n",
       "      <th>1</th>\n",
       "      <td>44</td>\n",
       "      <td>technician</td>\n",
       "      <td>single</td>\n",
       "      <td>secondary</td>\n",
       "      <td>no</td>\n",
       "      <td>29</td>\n",
       "      <td>yes</td>\n",
       "      <td>no</td>\n",
       "      <td>unknown</td>\n",
       "      <td>5</td>\n",
       "      <td>may</td>\n",
       "      <td>151</td>\n",
       "      <td>1</td>\n",
       "      <td>-1</td>\n",
       "      <td>0</td>\n",
       "      <td>unknown</td>\n",
       "      <td>no</td>\n",
       "    </tr>\n",
       "    <tr>\n",
       "      <th>2</th>\n",
       "      <td>33</td>\n",
       "      <td>entrepreneur</td>\n",
       "      <td>married</td>\n",
       "      <td>secondary</td>\n",
       "      <td>no</td>\n",
       "      <td>2</td>\n",
       "      <td>yes</td>\n",
       "      <td>yes</td>\n",
       "      <td>unknown</td>\n",
       "      <td>5</td>\n",
       "      <td>may</td>\n",
       "      <td>76</td>\n",
       "      <td>1</td>\n",
       "      <td>-1</td>\n",
       "      <td>0</td>\n",
       "      <td>unknown</td>\n",
       "      <td>no</td>\n",
       "    </tr>\n",
       "    <tr>\n",
       "      <th>3</th>\n",
       "      <td>47</td>\n",
       "      <td>blue-collar</td>\n",
       "      <td>married</td>\n",
       "      <td>unknown</td>\n",
       "      <td>no</td>\n",
       "      <td>1506</td>\n",
       "      <td>yes</td>\n",
       "      <td>no</td>\n",
       "      <td>unknown</td>\n",
       "      <td>5</td>\n",
       "      <td>may</td>\n",
       "      <td>92</td>\n",
       "      <td>1</td>\n",
       "      <td>-1</td>\n",
       "      <td>0</td>\n",
       "      <td>unknown</td>\n",
       "      <td>no</td>\n",
       "    </tr>\n",
       "    <tr>\n",
       "      <th>4</th>\n",
       "      <td>33</td>\n",
       "      <td>unknown</td>\n",
       "      <td>single</td>\n",
       "      <td>unknown</td>\n",
       "      <td>no</td>\n",
       "      <td>1</td>\n",
       "      <td>no</td>\n",
       "      <td>no</td>\n",
       "      <td>unknown</td>\n",
       "      <td>5</td>\n",
       "      <td>may</td>\n",
       "      <td>198</td>\n",
       "      <td>1</td>\n",
       "      <td>-1</td>\n",
       "      <td>0</td>\n",
       "      <td>unknown</td>\n",
       "      <td>no</td>\n",
       "    </tr>\n",
       "    <tr>\n",
       "      <th>5</th>\n",
       "      <td>35</td>\n",
       "      <td>management</td>\n",
       "      <td>married</td>\n",
       "      <td>tertiary</td>\n",
       "      <td>no</td>\n",
       "      <td>231</td>\n",
       "      <td>yes</td>\n",
       "      <td>no</td>\n",
       "      <td>unknown</td>\n",
       "      <td>5</td>\n",
       "      <td>may</td>\n",
       "      <td>139</td>\n",
       "      <td>1</td>\n",
       "      <td>-1</td>\n",
       "      <td>0</td>\n",
       "      <td>unknown</td>\n",
       "      <td>no</td>\n",
       "    </tr>\n",
       "    <tr>\n",
       "      <th>6</th>\n",
       "      <td>28</td>\n",
       "      <td>management</td>\n",
       "      <td>single</td>\n",
       "      <td>tertiary</td>\n",
       "      <td>no</td>\n",
       "      <td>447</td>\n",
       "      <td>yes</td>\n",
       "      <td>yes</td>\n",
       "      <td>unknown</td>\n",
       "      <td>5</td>\n",
       "      <td>may</td>\n",
       "      <td>217</td>\n",
       "      <td>1</td>\n",
       "      <td>-1</td>\n",
       "      <td>0</td>\n",
       "      <td>unknown</td>\n",
       "      <td>no</td>\n",
       "    </tr>\n",
       "    <tr>\n",
       "      <th>7</th>\n",
       "      <td>42</td>\n",
       "      <td>entrepreneur</td>\n",
       "      <td>divorced</td>\n",
       "      <td>tertiary</td>\n",
       "      <td>yes</td>\n",
       "      <td>2</td>\n",
       "      <td>yes</td>\n",
       "      <td>no</td>\n",
       "      <td>unknown</td>\n",
       "      <td>5</td>\n",
       "      <td>may</td>\n",
       "      <td>380</td>\n",
       "      <td>1</td>\n",
       "      <td>-1</td>\n",
       "      <td>0</td>\n",
       "      <td>unknown</td>\n",
       "      <td>no</td>\n",
       "    </tr>\n",
       "    <tr>\n",
       "      <th>8</th>\n",
       "      <td>58</td>\n",
       "      <td>retired</td>\n",
       "      <td>married</td>\n",
       "      <td>primary</td>\n",
       "      <td>no</td>\n",
       "      <td>121</td>\n",
       "      <td>yes</td>\n",
       "      <td>no</td>\n",
       "      <td>unknown</td>\n",
       "      <td>5</td>\n",
       "      <td>may</td>\n",
       "      <td>50</td>\n",
       "      <td>1</td>\n",
       "      <td>-1</td>\n",
       "      <td>0</td>\n",
       "      <td>unknown</td>\n",
       "      <td>no</td>\n",
       "    </tr>\n",
       "    <tr>\n",
       "      <th>9</th>\n",
       "      <td>43</td>\n",
       "      <td>technician</td>\n",
       "      <td>single</td>\n",
       "      <td>secondary</td>\n",
       "      <td>no</td>\n",
       "      <td>593</td>\n",
       "      <td>yes</td>\n",
       "      <td>no</td>\n",
       "      <td>unknown</td>\n",
       "      <td>5</td>\n",
       "      <td>may</td>\n",
       "      <td>55</td>\n",
       "      <td>1</td>\n",
       "      <td>-1</td>\n",
       "      <td>0</td>\n",
       "      <td>unknown</td>\n",
       "      <td>no</td>\n",
       "    </tr>\n",
       "  </tbody>\n",
       "</table>\n",
       "</div>"
      ],
      "text/plain": [
       "   age           job   marital  education default  balance housing loan  \\\n",
       "0   58    management   married   tertiary      no     2143     yes   no   \n",
       "1   44    technician    single  secondary      no       29     yes   no   \n",
       "2   33  entrepreneur   married  secondary      no        2     yes  yes   \n",
       "3   47   blue-collar   married    unknown      no     1506     yes   no   \n",
       "4   33       unknown    single    unknown      no        1      no   no   \n",
       "5   35    management   married   tertiary      no      231     yes   no   \n",
       "6   28    management    single   tertiary      no      447     yes  yes   \n",
       "7   42  entrepreneur  divorced   tertiary     yes        2     yes   no   \n",
       "8   58       retired   married    primary      no      121     yes   no   \n",
       "9   43    technician    single  secondary      no      593     yes   no   \n",
       "\n",
       "   contact  day month  duration  campaign  pdays  previous poutcome   y  \n",
       "0  unknown    5   may       261         1     -1         0  unknown  no  \n",
       "1  unknown    5   may       151         1     -1         0  unknown  no  \n",
       "2  unknown    5   may        76         1     -1         0  unknown  no  \n",
       "3  unknown    5   may        92         1     -1         0  unknown  no  \n",
       "4  unknown    5   may       198         1     -1         0  unknown  no  \n",
       "5  unknown    5   may       139         1     -1         0  unknown  no  \n",
       "6  unknown    5   may       217         1     -1         0  unknown  no  \n",
       "7  unknown    5   may       380         1     -1         0  unknown  no  \n",
       "8  unknown    5   may        50         1     -1         0  unknown  no  \n",
       "9  unknown    5   may        55         1     -1         0  unknown  no  "
      ]
     },
     "execution_count": 7,
     "metadata": {},
     "output_type": "execute_result"
    }
   ],
   "source": [
    "df.head(10)"
   ]
  },
  {
   "cell_type": "markdown",
   "id": "549661aa",
   "metadata": {},
   "source": [
    "**Input variables:**\n",
    "   \n",
    "   Bank client data:\n",
    "   1 - age (numeric)\n",
    "   \n",
    "   2 - job : \n",
    "   type of job (categorical:           \"admin.\",\"unknown\",\"unemployed\",\"management\",\"housemaid\",\"entrepreneur\",\"student\",\n",
    "                                       \"blue-collar\",\"self-employed\",\"retired\",\"technician\",\"services\") \n",
    "                                       \n",
    "   3 - marital : marital status (categorical: \"married\",\"divorced\",\"single\"; note: \"divorced\" means divorced or widowed)\n",
    "   \n",
    "   4 - education (categorical: \"unknown\",\"secondary\",\"primary\",\"tertiary\")\n",
    "   \n",
    "   5 - default: has credit in default? (binary: \"yes\",\"no\")\n",
    "   \n",
    "   6 - balance: average yearly balance, in euros (numeric) \n",
    "   \n",
    "   7 - housing: has housing loan? (binary: \"yes\",\"no\")\n",
    "   \n",
    "   8 - loan: has personal loan? (binary: \"yes\",\"no\")\n",
    "   \n",
    " **Related with the last contact of the current campaign:**\n",
    " \n",
    "   9 - contact: contact communication type (categorical: \"unknown\",\"telephone\",\"cellular\") \n",
    "   \n",
    "  10 - day: last contact day of the month (numeric)\n",
    "  \n",
    "  11 - month: last contact month of year (categorical: \"jan\", \"feb\", \"mar\", ..., \"nov\", \"dec\")\n",
    "  \n",
    "  12 - duration: last contact duration, in seconds (numeric)\n",
    "  \n",
    "  **Other attributes:**\n",
    "  \n",
    "  13 - campaign: number of contacts performed during this campaign and for this client (numeric, includes last contact)\n",
    "  \n",
    "  14 - pdays: number of days that passed by after the client was last contacted from a previous campaign (numeric, -1 means client was not previously contacted)\n",
    "  \n",
    "  15 - previous: number of contacts performed before this campaign and for this client (numeric)\n",
    "  \n",
    "  16 - poutcome: outcome of the previous marketing campaign (categorical: \"unknown\",\"other\",\"failure\",\"success\")\n",
    "  \n",
    "**y - has the client subscribed a term deposit? (binary: \"yes\",\"no\")**"
   ]
  },
  {
   "cell_type": "code",
   "execution_count": 8,
   "id": "761b149a",
   "metadata": {},
   "outputs": [
    {
     "data": {
      "text/plain": [
       "age          0\n",
       "job          0\n",
       "marital      0\n",
       "education    0\n",
       "default      0\n",
       "balance      0\n",
       "housing      0\n",
       "loan         0\n",
       "contact      0\n",
       "day          0\n",
       "month        0\n",
       "duration     0\n",
       "campaign     0\n",
       "pdays        0\n",
       "previous     0\n",
       "poutcome     0\n",
       "y            0\n",
       "dtype: int64"
      ]
     },
     "execution_count": 8,
     "metadata": {},
     "output_type": "execute_result"
    }
   ],
   "source": [
    "df.isna().sum()\n",
    "# No missing values here"
   ]
  },
  {
   "cell_type": "code",
   "execution_count": 9,
   "id": "ab454719",
   "metadata": {},
   "outputs": [],
   "source": [
    "#from pandas_profiling import ProfileReport"
   ]
  },
  {
   "cell_type": "code",
   "execution_count": 10,
   "id": "56d87bc0",
   "metadata": {},
   "outputs": [
    {
     "data": {
      "text/html": [
       "<div>\n",
       "<style scoped>\n",
       "    .dataframe tbody tr th:only-of-type {\n",
       "        vertical-align: middle;\n",
       "    }\n",
       "\n",
       "    .dataframe tbody tr th {\n",
       "        vertical-align: top;\n",
       "    }\n",
       "\n",
       "    .dataframe thead th {\n",
       "        text-align: right;\n",
       "    }\n",
       "</style>\n",
       "<table border=\"1\" class=\"dataframe\">\n",
       "  <thead>\n",
       "    <tr style=\"text-align: right;\">\n",
       "      <th></th>\n",
       "      <th>age</th>\n",
       "      <th>balance</th>\n",
       "      <th>day</th>\n",
       "      <th>duration</th>\n",
       "      <th>campaign</th>\n",
       "      <th>pdays</th>\n",
       "      <th>previous</th>\n",
       "    </tr>\n",
       "  </thead>\n",
       "  <tbody>\n",
       "    <tr>\n",
       "      <th>count</th>\n",
       "      <td>45211.000000</td>\n",
       "      <td>45211.000000</td>\n",
       "      <td>45211.000000</td>\n",
       "      <td>45211.000000</td>\n",
       "      <td>45211.000000</td>\n",
       "      <td>45211.000000</td>\n",
       "      <td>45211.000000</td>\n",
       "    </tr>\n",
       "    <tr>\n",
       "      <th>mean</th>\n",
       "      <td>40.936210</td>\n",
       "      <td>1362.272058</td>\n",
       "      <td>15.806419</td>\n",
       "      <td>258.163080</td>\n",
       "      <td>2.763841</td>\n",
       "      <td>40.197828</td>\n",
       "      <td>0.580323</td>\n",
       "    </tr>\n",
       "    <tr>\n",
       "      <th>std</th>\n",
       "      <td>10.618762</td>\n",
       "      <td>3044.765829</td>\n",
       "      <td>8.322476</td>\n",
       "      <td>257.527812</td>\n",
       "      <td>3.098021</td>\n",
       "      <td>100.128746</td>\n",
       "      <td>2.303441</td>\n",
       "    </tr>\n",
       "    <tr>\n",
       "      <th>min</th>\n",
       "      <td>18.000000</td>\n",
       "      <td>-8019.000000</td>\n",
       "      <td>1.000000</td>\n",
       "      <td>0.000000</td>\n",
       "      <td>1.000000</td>\n",
       "      <td>-1.000000</td>\n",
       "      <td>0.000000</td>\n",
       "    </tr>\n",
       "    <tr>\n",
       "      <th>25%</th>\n",
       "      <td>33.000000</td>\n",
       "      <td>72.000000</td>\n",
       "      <td>8.000000</td>\n",
       "      <td>103.000000</td>\n",
       "      <td>1.000000</td>\n",
       "      <td>-1.000000</td>\n",
       "      <td>0.000000</td>\n",
       "    </tr>\n",
       "    <tr>\n",
       "      <th>50%</th>\n",
       "      <td>39.000000</td>\n",
       "      <td>448.000000</td>\n",
       "      <td>16.000000</td>\n",
       "      <td>180.000000</td>\n",
       "      <td>2.000000</td>\n",
       "      <td>-1.000000</td>\n",
       "      <td>0.000000</td>\n",
       "    </tr>\n",
       "    <tr>\n",
       "      <th>75%</th>\n",
       "      <td>48.000000</td>\n",
       "      <td>1428.000000</td>\n",
       "      <td>21.000000</td>\n",
       "      <td>319.000000</td>\n",
       "      <td>3.000000</td>\n",
       "      <td>-1.000000</td>\n",
       "      <td>0.000000</td>\n",
       "    </tr>\n",
       "    <tr>\n",
       "      <th>max</th>\n",
       "      <td>95.000000</td>\n",
       "      <td>102127.000000</td>\n",
       "      <td>31.000000</td>\n",
       "      <td>4918.000000</td>\n",
       "      <td>63.000000</td>\n",
       "      <td>871.000000</td>\n",
       "      <td>275.000000</td>\n",
       "    </tr>\n",
       "  </tbody>\n",
       "</table>\n",
       "</div>"
      ],
      "text/plain": [
       "                age        balance           day      duration      campaign  \\\n",
       "count  45211.000000   45211.000000  45211.000000  45211.000000  45211.000000   \n",
       "mean      40.936210    1362.272058     15.806419    258.163080      2.763841   \n",
       "std       10.618762    3044.765829      8.322476    257.527812      3.098021   \n",
       "min       18.000000   -8019.000000      1.000000      0.000000      1.000000   \n",
       "25%       33.000000      72.000000      8.000000    103.000000      1.000000   \n",
       "50%       39.000000     448.000000     16.000000    180.000000      2.000000   \n",
       "75%       48.000000    1428.000000     21.000000    319.000000      3.000000   \n",
       "max       95.000000  102127.000000     31.000000   4918.000000     63.000000   \n",
       "\n",
       "              pdays      previous  \n",
       "count  45211.000000  45211.000000  \n",
       "mean      40.197828      0.580323  \n",
       "std      100.128746      2.303441  \n",
       "min       -1.000000      0.000000  \n",
       "25%       -1.000000      0.000000  \n",
       "50%       -1.000000      0.000000  \n",
       "75%       -1.000000      0.000000  \n",
       "max      871.000000    275.000000  "
      ]
     },
     "execution_count": 10,
     "metadata": {},
     "output_type": "execute_result"
    }
   ],
   "source": [
    "df.describe()\n",
    "# Description of the numeric (non-categorical or non-binary) features"
   ]
  },
  {
   "cell_type": "code",
   "execution_count": 11,
   "id": "b8d81b57",
   "metadata": {},
   "outputs": [
    {
     "data": {
      "text/html": [
       "<div>\n",
       "<style scoped>\n",
       "    .dataframe tbody tr th:only-of-type {\n",
       "        vertical-align: middle;\n",
       "    }\n",
       "\n",
       "    .dataframe tbody tr th {\n",
       "        vertical-align: top;\n",
       "    }\n",
       "\n",
       "    .dataframe thead th {\n",
       "        text-align: right;\n",
       "    }\n",
       "</style>\n",
       "<table border=\"1\" class=\"dataframe\">\n",
       "  <thead>\n",
       "    <tr style=\"text-align: right;\">\n",
       "      <th></th>\n",
       "      <th>age</th>\n",
       "      <th>job</th>\n",
       "      <th>marital</th>\n",
       "      <th>education</th>\n",
       "      <th>default</th>\n",
       "      <th>balance</th>\n",
       "      <th>housing</th>\n",
       "      <th>loan</th>\n",
       "      <th>contact</th>\n",
       "      <th>day</th>\n",
       "      <th>month</th>\n",
       "      <th>duration</th>\n",
       "      <th>campaign</th>\n",
       "      <th>pdays</th>\n",
       "      <th>previous</th>\n",
       "      <th>poutcome</th>\n",
       "      <th>y</th>\n",
       "    </tr>\n",
       "  </thead>\n",
       "  <tbody>\n",
       "    <tr>\n",
       "      <th>count</th>\n",
       "      <td>45211.000000</td>\n",
       "      <td>45211</td>\n",
       "      <td>45211</td>\n",
       "      <td>45211</td>\n",
       "      <td>45211</td>\n",
       "      <td>45211.000000</td>\n",
       "      <td>45211</td>\n",
       "      <td>45211</td>\n",
       "      <td>45211</td>\n",
       "      <td>45211.000000</td>\n",
       "      <td>45211</td>\n",
       "      <td>45211.000000</td>\n",
       "      <td>45211.000000</td>\n",
       "      <td>45211.000000</td>\n",
       "      <td>45211.000000</td>\n",
       "      <td>45211</td>\n",
       "      <td>45211</td>\n",
       "    </tr>\n",
       "    <tr>\n",
       "      <th>unique</th>\n",
       "      <td>NaN</td>\n",
       "      <td>12</td>\n",
       "      <td>3</td>\n",
       "      <td>4</td>\n",
       "      <td>2</td>\n",
       "      <td>NaN</td>\n",
       "      <td>2</td>\n",
       "      <td>2</td>\n",
       "      <td>3</td>\n",
       "      <td>NaN</td>\n",
       "      <td>12</td>\n",
       "      <td>NaN</td>\n",
       "      <td>NaN</td>\n",
       "      <td>NaN</td>\n",
       "      <td>NaN</td>\n",
       "      <td>4</td>\n",
       "      <td>2</td>\n",
       "    </tr>\n",
       "    <tr>\n",
       "      <th>top</th>\n",
       "      <td>NaN</td>\n",
       "      <td>blue-collar</td>\n",
       "      <td>married</td>\n",
       "      <td>secondary</td>\n",
       "      <td>no</td>\n",
       "      <td>NaN</td>\n",
       "      <td>yes</td>\n",
       "      <td>no</td>\n",
       "      <td>cellular</td>\n",
       "      <td>NaN</td>\n",
       "      <td>may</td>\n",
       "      <td>NaN</td>\n",
       "      <td>NaN</td>\n",
       "      <td>NaN</td>\n",
       "      <td>NaN</td>\n",
       "      <td>unknown</td>\n",
       "      <td>no</td>\n",
       "    </tr>\n",
       "    <tr>\n",
       "      <th>freq</th>\n",
       "      <td>NaN</td>\n",
       "      <td>9732</td>\n",
       "      <td>27214</td>\n",
       "      <td>23202</td>\n",
       "      <td>44396</td>\n",
       "      <td>NaN</td>\n",
       "      <td>25130</td>\n",
       "      <td>37967</td>\n",
       "      <td>29285</td>\n",
       "      <td>NaN</td>\n",
       "      <td>13766</td>\n",
       "      <td>NaN</td>\n",
       "      <td>NaN</td>\n",
       "      <td>NaN</td>\n",
       "      <td>NaN</td>\n",
       "      <td>36959</td>\n",
       "      <td>39922</td>\n",
       "    </tr>\n",
       "    <tr>\n",
       "      <th>mean</th>\n",
       "      <td>40.936210</td>\n",
       "      <td>NaN</td>\n",
       "      <td>NaN</td>\n",
       "      <td>NaN</td>\n",
       "      <td>NaN</td>\n",
       "      <td>1362.272058</td>\n",
       "      <td>NaN</td>\n",
       "      <td>NaN</td>\n",
       "      <td>NaN</td>\n",
       "      <td>15.806419</td>\n",
       "      <td>NaN</td>\n",
       "      <td>258.163080</td>\n",
       "      <td>2.763841</td>\n",
       "      <td>40.197828</td>\n",
       "      <td>0.580323</td>\n",
       "      <td>NaN</td>\n",
       "      <td>NaN</td>\n",
       "    </tr>\n",
       "    <tr>\n",
       "      <th>std</th>\n",
       "      <td>10.618762</td>\n",
       "      <td>NaN</td>\n",
       "      <td>NaN</td>\n",
       "      <td>NaN</td>\n",
       "      <td>NaN</td>\n",
       "      <td>3044.765829</td>\n",
       "      <td>NaN</td>\n",
       "      <td>NaN</td>\n",
       "      <td>NaN</td>\n",
       "      <td>8.322476</td>\n",
       "      <td>NaN</td>\n",
       "      <td>257.527812</td>\n",
       "      <td>3.098021</td>\n",
       "      <td>100.128746</td>\n",
       "      <td>2.303441</td>\n",
       "      <td>NaN</td>\n",
       "      <td>NaN</td>\n",
       "    </tr>\n",
       "    <tr>\n",
       "      <th>min</th>\n",
       "      <td>18.000000</td>\n",
       "      <td>NaN</td>\n",
       "      <td>NaN</td>\n",
       "      <td>NaN</td>\n",
       "      <td>NaN</td>\n",
       "      <td>-8019.000000</td>\n",
       "      <td>NaN</td>\n",
       "      <td>NaN</td>\n",
       "      <td>NaN</td>\n",
       "      <td>1.000000</td>\n",
       "      <td>NaN</td>\n",
       "      <td>0.000000</td>\n",
       "      <td>1.000000</td>\n",
       "      <td>-1.000000</td>\n",
       "      <td>0.000000</td>\n",
       "      <td>NaN</td>\n",
       "      <td>NaN</td>\n",
       "    </tr>\n",
       "    <tr>\n",
       "      <th>25%</th>\n",
       "      <td>33.000000</td>\n",
       "      <td>NaN</td>\n",
       "      <td>NaN</td>\n",
       "      <td>NaN</td>\n",
       "      <td>NaN</td>\n",
       "      <td>72.000000</td>\n",
       "      <td>NaN</td>\n",
       "      <td>NaN</td>\n",
       "      <td>NaN</td>\n",
       "      <td>8.000000</td>\n",
       "      <td>NaN</td>\n",
       "      <td>103.000000</td>\n",
       "      <td>1.000000</td>\n",
       "      <td>-1.000000</td>\n",
       "      <td>0.000000</td>\n",
       "      <td>NaN</td>\n",
       "      <td>NaN</td>\n",
       "    </tr>\n",
       "    <tr>\n",
       "      <th>50%</th>\n",
       "      <td>39.000000</td>\n",
       "      <td>NaN</td>\n",
       "      <td>NaN</td>\n",
       "      <td>NaN</td>\n",
       "      <td>NaN</td>\n",
       "      <td>448.000000</td>\n",
       "      <td>NaN</td>\n",
       "      <td>NaN</td>\n",
       "      <td>NaN</td>\n",
       "      <td>16.000000</td>\n",
       "      <td>NaN</td>\n",
       "      <td>180.000000</td>\n",
       "      <td>2.000000</td>\n",
       "      <td>-1.000000</td>\n",
       "      <td>0.000000</td>\n",
       "      <td>NaN</td>\n",
       "      <td>NaN</td>\n",
       "    </tr>\n",
       "    <tr>\n",
       "      <th>75%</th>\n",
       "      <td>48.000000</td>\n",
       "      <td>NaN</td>\n",
       "      <td>NaN</td>\n",
       "      <td>NaN</td>\n",
       "      <td>NaN</td>\n",
       "      <td>1428.000000</td>\n",
       "      <td>NaN</td>\n",
       "      <td>NaN</td>\n",
       "      <td>NaN</td>\n",
       "      <td>21.000000</td>\n",
       "      <td>NaN</td>\n",
       "      <td>319.000000</td>\n",
       "      <td>3.000000</td>\n",
       "      <td>-1.000000</td>\n",
       "      <td>0.000000</td>\n",
       "      <td>NaN</td>\n",
       "      <td>NaN</td>\n",
       "    </tr>\n",
       "    <tr>\n",
       "      <th>max</th>\n",
       "      <td>95.000000</td>\n",
       "      <td>NaN</td>\n",
       "      <td>NaN</td>\n",
       "      <td>NaN</td>\n",
       "      <td>NaN</td>\n",
       "      <td>102127.000000</td>\n",
       "      <td>NaN</td>\n",
       "      <td>NaN</td>\n",
       "      <td>NaN</td>\n",
       "      <td>31.000000</td>\n",
       "      <td>NaN</td>\n",
       "      <td>4918.000000</td>\n",
       "      <td>63.000000</td>\n",
       "      <td>871.000000</td>\n",
       "      <td>275.000000</td>\n",
       "      <td>NaN</td>\n",
       "      <td>NaN</td>\n",
       "    </tr>\n",
       "  </tbody>\n",
       "</table>\n",
       "</div>"
      ],
      "text/plain": [
       "                 age          job  marital  education default        balance  \\\n",
       "count   45211.000000        45211    45211      45211   45211   45211.000000   \n",
       "unique           NaN           12        3          4       2            NaN   \n",
       "top              NaN  blue-collar  married  secondary      no            NaN   \n",
       "freq             NaN         9732    27214      23202   44396            NaN   \n",
       "mean       40.936210          NaN      NaN        NaN     NaN    1362.272058   \n",
       "std        10.618762          NaN      NaN        NaN     NaN    3044.765829   \n",
       "min        18.000000          NaN      NaN        NaN     NaN   -8019.000000   \n",
       "25%        33.000000          NaN      NaN        NaN     NaN      72.000000   \n",
       "50%        39.000000          NaN      NaN        NaN     NaN     448.000000   \n",
       "75%        48.000000          NaN      NaN        NaN     NaN    1428.000000   \n",
       "max        95.000000          NaN      NaN        NaN     NaN  102127.000000   \n",
       "\n",
       "       housing   loan   contact           day  month      duration  \\\n",
       "count    45211  45211     45211  45211.000000  45211  45211.000000   \n",
       "unique       2      2         3           NaN     12           NaN   \n",
       "top        yes     no  cellular           NaN    may           NaN   \n",
       "freq     25130  37967     29285           NaN  13766           NaN   \n",
       "mean       NaN    NaN       NaN     15.806419    NaN    258.163080   \n",
       "std        NaN    NaN       NaN      8.322476    NaN    257.527812   \n",
       "min        NaN    NaN       NaN      1.000000    NaN      0.000000   \n",
       "25%        NaN    NaN       NaN      8.000000    NaN    103.000000   \n",
       "50%        NaN    NaN       NaN     16.000000    NaN    180.000000   \n",
       "75%        NaN    NaN       NaN     21.000000    NaN    319.000000   \n",
       "max        NaN    NaN       NaN     31.000000    NaN   4918.000000   \n",
       "\n",
       "            campaign         pdays      previous poutcome      y  \n",
       "count   45211.000000  45211.000000  45211.000000    45211  45211  \n",
       "unique           NaN           NaN           NaN        4      2  \n",
       "top              NaN           NaN           NaN  unknown     no  \n",
       "freq             NaN           NaN           NaN    36959  39922  \n",
       "mean        2.763841     40.197828      0.580323      NaN    NaN  \n",
       "std         3.098021    100.128746      2.303441      NaN    NaN  \n",
       "min         1.000000     -1.000000      0.000000      NaN    NaN  \n",
       "25%         1.000000     -1.000000      0.000000      NaN    NaN  \n",
       "50%         2.000000     -1.000000      0.000000      NaN    NaN  \n",
       "75%         3.000000     -1.000000      0.000000      NaN    NaN  \n",
       "max        63.000000    871.000000    275.000000      NaN    NaN  "
      ]
     },
     "execution_count": 11,
     "metadata": {},
     "output_type": "execute_result"
    }
   ],
   "source": [
    "df.describe(include='all')"
   ]
  },
  {
   "cell_type": "markdown",
   "id": "65d1a3af",
   "metadata": {},
   "source": [
    "**Dropping columns that do not contribute to the outcome:**"
   ]
  },
  {
   "cell_type": "code",
   "execution_count": 12,
   "id": "c5789f39",
   "metadata": {},
   "outputs": [],
   "source": [
    "#day: last contact day of the month (numeric).\n",
    "#Has no meaning here since it depends on the time of the survey which is not provided here.\n",
    "df = df.drop(['day'], axis = 1)"
   ]
  },
  {
   "cell_type": "code",
   "execution_count": 13,
   "id": "eb260a9d",
   "metadata": {},
   "outputs": [],
   "source": [
    "# month: last contact month of year (categorical: \"jan\", \"feb\", \"mar\", ..., \"nov\", \"dec\")\n",
    "# The same rational here, it has no meaning here and does not contribute to the outcome.\n",
    "# Month col. is relative and we do not have a reference point.\n",
    "df = df.drop(['month'], axis = 1)"
   ]
  },
  {
   "cell_type": "markdown",
   "id": "6b81acf6",
   "metadata": {},
   "source": [
    "**Taking care of pdays col.**"
   ]
  },
  {
   "cell_type": "code",
   "execution_count": 14,
   "id": "5c33903f",
   "metadata": {},
   "outputs": [
    {
     "data": {
      "image/png": "[encoded data removed]",
      "text/plain": [
       "<Figure size 640x480 with 1 Axes>"
      ]
     },
     "metadata": {},
     "output_type": "display_data"
    }
   ],
   "source": [
    "df['pdays'].hist(bins = 20);"
   ]
  },
  {
   "cell_type": "code",
   "execution_count": 15,
   "id": "4281bd7f",
   "metadata": {},
   "outputs": [],
   "source": [
    "# pdays: number of days that passed by after the client was last contacted \n",
    "# from a previous campaign (numeric, -1 means client was not previously contacted).\n",
    "\n",
    "# That means that -1 value should be replaced with 0.\n",
    "\n",
    "df['pdays'] = np.where(df['pdays'] == -1, 0, df['pdays'])"
   ]
  },
  {
   "cell_type": "code",
   "execution_count": 16,
   "id": "9a34d198",
   "metadata": {},
   "outputs": [
    {
     "data": {
      "image/png": "[encoded data removed]",
      "text/plain": [
       "<Figure size 640x480 with 1 Axes>"
      ]
     },
     "metadata": {},
     "output_type": "display_data"
    }
   ],
   "source": [
    "# How does pdays look now:\n",
    "df['pdays'].hist(bins = 20);"
   ]
  },
  {
   "cell_type": "code",
   "execution_count": 17,
   "id": "c3d8adbc",
   "metadata": {},
   "outputs": [
    {
     "data": {
      "text/plain": [
       "count    45211.000000\n",
       "mean        41.015195\n",
       "std         99.792615\n",
       "min          0.000000\n",
       "25%          0.000000\n",
       "50%          0.000000\n",
       "75%          0.000000\n",
       "max        871.000000\n",
       "Name: pdays, dtype: float64"
      ]
     },
     "execution_count": 17,
     "metadata": {},
     "output_type": "execute_result"
    }
   ],
   "source": [
    "df['pdays'].describe()"
   ]
  },
  {
   "cell_type": "markdown",
   "id": "dd4bc9e7",
   "metadata": {},
   "source": [
    "**Taking care of categorical features**\n",
    "I'm giving numeric weights to each catogry in a feature, so I won't end up with a lot of columns afer going through OneHotEncoder."
   ]
  },
  {
   "cell_type": "code",
   "execution_count": 18,
   "id": "df40bbfb",
   "metadata": {},
   "outputs": [
    {
     "data": {
      "text/plain": [
       "married     27214\n",
       "single      12790\n",
       "divorced     5207\n",
       "Name: marital, dtype: int64"
      ]
     },
     "execution_count": 18,
     "metadata": {},
     "output_type": "execute_result"
    }
   ],
   "source": [
    "#marital : marital status \n",
    "# (categorical: \"married\",\"divorced\",\"single\"; note: \"divorced\" means divorced or widowed)\n",
    "\n",
    "df['marital'].value_counts()"
   ]
  },
  {
   "cell_type": "code",
   "execution_count": 19,
   "id": "3ff925d9",
   "metadata": {},
   "outputs": [],
   "source": [
    "df['marital'] = np.where(df['marital'] == 'married', 3, df['marital'])\n",
    "df['marital'] = np.where(df['marital'] == 'single', 1, df['marital'])\n",
    "df['marital'] = np.where(df['marital'] == 'divorced', 2, df['marital'])"
   ]
  },
  {
   "cell_type": "code",
   "execution_count": 20,
   "id": "31b8059f",
   "metadata": {},
   "outputs": [
    {
     "data": {
      "text/plain": [
       "3    27214\n",
       "1    12790\n",
       "2     5207\n",
       "Name: marital, dtype: int64"
      ]
     },
     "execution_count": 20,
     "metadata": {},
     "output_type": "execute_result"
    }
   ],
   "source": [
    "df['marital'].value_counts()"
   ]
  },
  {
   "cell_type": "code",
   "execution_count": 21,
   "id": "ef52d3fd",
   "metadata": {},
   "outputs": [
    {
     "data": {
      "text/plain": [
       "secondary    23202\n",
       "tertiary     13301\n",
       "primary       6851\n",
       "unknown       1857\n",
       "Name: education, dtype: int64"
      ]
     },
     "execution_count": 21,
     "metadata": {},
     "output_type": "execute_result"
    }
   ],
   "source": [
    "# education (categorical: \"unknown\",\"secondary\",\"primary\",\"tertiary\")\n",
    "\n",
    "df['education'].value_counts()"
   ]
  },
  {
   "cell_type": "code",
   "execution_count": 22,
   "id": "cf41988c",
   "metadata": {},
   "outputs": [],
   "source": [
    "df['education'] = np.where(df['education'] == 'unknown', 1, df['education'])\n",
    "df['education'] = np.where(df['education'] == 'primary', 2, df['education'])\n",
    "df['education'] = np.where(df['education'] == 'secondary', 3, df['education'])\n",
    "df['education'] = np.where(df['education'] == 'tertiary', 4, df['education'])"
   ]
  },
  {
   "cell_type": "code",
   "execution_count": 23,
   "id": "a863262a",
   "metadata": {},
   "outputs": [
    {
     "data": {
      "text/plain": [
       "3    23202\n",
       "4    13301\n",
       "2     6851\n",
       "1     1857\n",
       "Name: education, dtype: int64"
      ]
     },
     "execution_count": 23,
     "metadata": {},
     "output_type": "execute_result"
    }
   ],
   "source": [
    "df['education'].value_counts()"
   ]
  },
  {
   "cell_type": "code",
   "execution_count": 24,
   "id": "23407294",
   "metadata": {},
   "outputs": [
    {
     "data": {
      "text/plain": [
       "cellular     29285\n",
       "unknown      13020\n",
       "telephone     2906\n",
       "Name: contact, dtype: int64"
      ]
     },
     "execution_count": 24,
     "metadata": {},
     "output_type": "execute_result"
    }
   ],
   "source": [
    "#contact: contact communication type (categorical: \"unknown\",\"telephone\",\"cellular\")\n",
    "\n",
    "df['contact'].value_counts()"
   ]
  },
  {
   "cell_type": "code",
   "execution_count": 25,
   "id": "88495f90",
   "metadata": {},
   "outputs": [],
   "source": [
    "df['contact'] = np.where(df['contact'] == 'unknown', 1, df['contact'])\n",
    "df['contact'] = np.where(df['contact'] == 'telephone', 2, df['contact'])\n",
    "df['contact'] = np.where(df['contact'] == 'cellular', 3, df['contact'])"
   ]
  },
  {
   "cell_type": "code",
   "execution_count": 26,
   "id": "6faf9e80",
   "metadata": {},
   "outputs": [
    {
     "data": {
      "text/plain": [
       "3    29285\n",
       "1    13020\n",
       "2     2906\n",
       "Name: contact, dtype: int64"
      ]
     },
     "execution_count": 26,
     "metadata": {},
     "output_type": "execute_result"
    }
   ],
   "source": [
    "df['contact'].value_counts()\n",
    "\n",
    "# Small fraction of customers have old fasion telephone "
   ]
  },
  {
   "cell_type": "code",
   "execution_count": 27,
   "id": "d877b389",
   "metadata": {
    "scrolled": true
   },
   "outputs": [
    {
     "data": {
      "text/plain": [
       "blue-collar      9732\n",
       "management       9458\n",
       "technician       7597\n",
       "admin.           5171\n",
       "services         4154\n",
       "retired          2264\n",
       "self-employed    1579\n",
       "entrepreneur     1487\n",
       "unemployed       1303\n",
       "housemaid        1240\n",
       "student           938\n",
       "unknown           288\n",
       "Name: job, dtype: int64"
      ]
     },
     "execution_count": 27,
     "metadata": {},
     "output_type": "execute_result"
    }
   ],
   "source": [
    "# job : type of job (categorical: \"admin.\",\"unknown\",\"unemployed\",\n",
    "#.  \"management\",\"housemaid\",\"entrepreneur\",\"student\", \"blue-collar\",\n",
    "#   \"self-employed\",\"retired\",\"technician\",\"services\")\n",
    "\n",
    "df['job'].value_counts()\n",
    "# 12 unique values\n",
    "\n",
    "# I'll give numeric integer value/weight according to a job rank I made"
   ]
  },
  {
   "cell_type": "markdown",
   "id": "49d0b368",
   "metadata": {},
   "source": [
    "I put that in a comment. job col. will go to OneHotEncoder. Each job type might have a significance on its own.\n",
    "\n",
    "df['job'] = np.where(df['job'] == 'unemployed', 1, df['job'])\n",
    "df['job'] = np.where(df['job'] == 'unknown', 2, df['job'])\n",
    "df['job'] = np.where(df['job'] == 'student', 3, df['job'])\n",
    "df['jobm = np.where(df['job'] == 'self-employed', 4, df['job'])\n",
    "df['job'] = np.where(df['job'] == 'blue-collar', 5, df['job'])\n",
    "df['job'] = np.where(df['job'] == 'housemaid', 6, df['job'])\n",
    "df['job'] = np.where(df['job'] == 'retired', 7, df['job'])\n",
    "df['job'] = np.where(df['job'] == 'technician', 8, df['job'])\n",
    "df['job'] = np.where(df['job'] == 'services', 9, df['job'])\n",
    "df['job'] = np.where(df['job'] == 'admin.', 10, df['job'])\n",
    "df['job'] = np.where(df['job'] == 'entrepreneur', 11, df['job'])\n",
    "df['job'] = np.where(df['job'] == 'management', 12, df['job'])"
   ]
  },
  {
   "cell_type": "code",
   "execution_count": 28,
   "id": "812af5bf",
   "metadata": {},
   "outputs": [
    {
     "data": {
      "text/plain": [
       "blue-collar      9732\n",
       "management       9458\n",
       "technician       7597\n",
       "admin.           5171\n",
       "services         4154\n",
       "retired          2264\n",
       "self-employed    1579\n",
       "entrepreneur     1487\n",
       "unemployed       1303\n",
       "housemaid        1240\n",
       "student           938\n",
       "unknown           288\n",
       "Name: job, dtype: int64"
      ]
     },
     "execution_count": 28,
     "metadata": {},
     "output_type": "execute_result"
    }
   ],
   "source": [
    "df['job'].value_counts()"
   ]
  },
  {
   "cell_type": "markdown",
   "id": "f00a163e",
   "metadata": {},
   "source": [
    "**Changing binary yes/no columns to 1/0**"
   ]
  },
  {
   "cell_type": "code",
   "execution_count": 29,
   "id": "661187a3",
   "metadata": {},
   "outputs": [],
   "source": [
    "#  default: has credit in default? (binary: \"yes\",\"no\")\n",
    "\n",
    "df['default'] = np.where(df['default'] == 'yes', 1, 0)"
   ]
  },
  {
   "cell_type": "code",
   "execution_count": 30,
   "id": "c4ed96ef",
   "metadata": {},
   "outputs": [
    {
     "data": {
      "text/plain": [
       "0    44396\n",
       "1      815\n",
       "Name: default, dtype: int64"
      ]
     },
     "execution_count": 30,
     "metadata": {},
     "output_type": "execute_result"
    }
   ],
   "source": [
    "df['default'].value_counts()\n",
    "# Vast majority of clients has no credit in default"
   ]
  },
  {
   "cell_type": "code",
   "execution_count": 31,
   "id": "fd510cd9",
   "metadata": {},
   "outputs": [],
   "source": [
    "# housing: has housing loan? (binary: \"yes\",\"no\")\n",
    "\n",
    "df['housing'] = np.where(df['housing'] == 'yes', 1, 0)"
   ]
  },
  {
   "cell_type": "code",
   "execution_count": 32,
   "id": "15d0507f",
   "metadata": {},
   "outputs": [
    {
     "data": {
      "text/plain": [
       "1    25130\n",
       "0    20081\n",
       "Name: housing, dtype: int64"
      ]
     },
     "execution_count": 32,
     "metadata": {},
     "output_type": "execute_result"
    }
   ],
   "source": [
    "df['housing'].value_counts()\n",
    "\n",
    "# Looks like a balanced col. here"
   ]
  },
  {
   "cell_type": "code",
   "execution_count": 33,
   "id": "d4d2f962",
   "metadata": {},
   "outputs": [],
   "source": [
    "# loan: has personal loan? (binary: \"yes\",\"no\")\n",
    "\n",
    "df['loan'] = np.where(df['loan'] == 'yes', 1, 0)"
   ]
  },
  {
   "cell_type": "code",
   "execution_count": 34,
   "id": "fd63be5b",
   "metadata": {},
   "outputs": [
    {
     "data": {
      "text/html": [
       "<style type=\"text/css\">\n",
       "</style>\n",
       "<table id=\"T_6256d\">\n",
       "  <thead>\n",
       "    <tr>\n",
       "      <th class=\"blank level0\" >&nbsp;</th>\n",
       "      <th id=\"T_6256d_level0_col0\" class=\"col_heading level0 col0\" >loan</th>\n",
       "    </tr>\n",
       "  </thead>\n",
       "  <tbody>\n",
       "    <tr>\n",
       "      <th id=\"T_6256d_level0_row0\" class=\"row_heading level0 row0\" >0</th>\n",
       "      <td id=\"T_6256d_row0_col0\" class=\"data row0 col0\" >83.98%</td>\n",
       "    </tr>\n",
       "    <tr>\n",
       "      <th id=\"T_6256d_level0_row1\" class=\"row_heading level0 row1\" >1</th>\n",
       "      <td id=\"T_6256d_row1_col0\" class=\"data row1 col0\" >16.02%</td>\n",
       "    </tr>\n",
       "  </tbody>\n",
       "</table>\n"
      ],
      "text/plain": [
       "<pandas.io.formats.style.Styler at 0x7fcbb0ff3370>"
      ]
     },
     "execution_count": 34,
     "metadata": {},
     "output_type": "execute_result"
    }
   ],
   "source": [
    "df['loan'].value_counts(normalize= True).to_frame().style.format('{:.2%}')\n",
    "\n",
    "# Almost 84% of clients do not have a personal loan"
   ]
  },
  {
   "cell_type": "markdown",
   "id": "6d3a4c64",
   "metadata": {},
   "source": [
    "**Check the dataset after all those chanhes and adjastments**"
   ]
  },
  {
   "cell_type": "code",
   "execution_count": 35,
   "id": "3e946610",
   "metadata": {},
   "outputs": [],
   "source": [
    "df['contact'].unique()\n",
    "# contact values turned form int to object..?\n",
    "df['contact'] = df['contact'].astype(\"int64\")"
   ]
  },
  {
   "cell_type": "code",
   "execution_count": 36,
   "id": "abb03389",
   "metadata": {
    "scrolled": true
   },
   "outputs": [
    {
     "data": {
      "text/html": [
       "<div>\n",
       "<style scoped>\n",
       "    .dataframe tbody tr th:only-of-type {\n",
       "        vertical-align: middle;\n",
       "    }\n",
       "\n",
       "    .dataframe tbody tr th {\n",
       "        vertical-align: top;\n",
       "    }\n",
       "\n",
       "    .dataframe thead th {\n",
       "        text-align: right;\n",
       "    }\n",
       "</style>\n",
       "<table border=\"1\" class=\"dataframe\">\n",
       "  <thead>\n",
       "    <tr style=\"text-align: right;\">\n",
       "      <th></th>\n",
       "      <th>age</th>\n",
       "      <th>job</th>\n",
       "      <th>marital</th>\n",
       "      <th>education</th>\n",
       "      <th>default</th>\n",
       "      <th>balance</th>\n",
       "      <th>housing</th>\n",
       "      <th>loan</th>\n",
       "      <th>contact</th>\n",
       "      <th>duration</th>\n",
       "      <th>campaign</th>\n",
       "      <th>pdays</th>\n",
       "      <th>previous</th>\n",
       "      <th>poutcome</th>\n",
       "      <th>y</th>\n",
       "    </tr>\n",
       "  </thead>\n",
       "  <tbody>\n",
       "    <tr>\n",
       "      <th>count</th>\n",
       "      <td>45211.000000</td>\n",
       "      <td>45211</td>\n",
       "      <td>45211.0</td>\n",
       "      <td>45211.0</td>\n",
       "      <td>45211.000000</td>\n",
       "      <td>45211.000000</td>\n",
       "      <td>45211.000000</td>\n",
       "      <td>45211.000000</td>\n",
       "      <td>45211.000000</td>\n",
       "      <td>45211.000000</td>\n",
       "      <td>45211.000000</td>\n",
       "      <td>45211.000000</td>\n",
       "      <td>45211.000000</td>\n",
       "      <td>45211</td>\n",
       "      <td>45211</td>\n",
       "    </tr>\n",
       "    <tr>\n",
       "      <th>unique</th>\n",
       "      <td>NaN</td>\n",
       "      <td>12</td>\n",
       "      <td>3.0</td>\n",
       "      <td>4.0</td>\n",
       "      <td>NaN</td>\n",
       "      <td>NaN</td>\n",
       "      <td>NaN</td>\n",
       "      <td>NaN</td>\n",
       "      <td>NaN</td>\n",
       "      <td>NaN</td>\n",
       "      <td>NaN</td>\n",
       "      <td>NaN</td>\n",
       "      <td>NaN</td>\n",
       "      <td>4</td>\n",
       "      <td>2</td>\n",
       "    </tr>\n",
       "    <tr>\n",
       "      <th>top</th>\n",
       "      <td>NaN</td>\n",
       "      <td>blue-collar</td>\n",
       "      <td>3.0</td>\n",
       "      <td>3.0</td>\n",
       "      <td>NaN</td>\n",
       "      <td>NaN</td>\n",
       "      <td>NaN</td>\n",
       "      <td>NaN</td>\n",
       "      <td>NaN</td>\n",
       "      <td>NaN</td>\n",
       "      <td>NaN</td>\n",
       "      <td>NaN</td>\n",
       "      <td>NaN</td>\n",
       "      <td>unknown</td>\n",
       "      <td>no</td>\n",
       "    </tr>\n",
       "    <tr>\n",
       "      <th>freq</th>\n",
       "      <td>NaN</td>\n",
       "      <td>9732</td>\n",
       "      <td>27214.0</td>\n",
       "      <td>23202.0</td>\n",
       "      <td>NaN</td>\n",
       "      <td>NaN</td>\n",
       "      <td>NaN</td>\n",
       "      <td>NaN</td>\n",
       "      <td>NaN</td>\n",
       "      <td>NaN</td>\n",
       "      <td>NaN</td>\n",
       "      <td>NaN</td>\n",
       "      <td>NaN</td>\n",
       "      <td>36959</td>\n",
       "      <td>39922</td>\n",
       "    </tr>\n",
       "    <tr>\n",
       "      <th>mean</th>\n",
       "      <td>40.936210</td>\n",
       "      <td>NaN</td>\n",
       "      <td>NaN</td>\n",
       "      <td>NaN</td>\n",
       "      <td>0.018027</td>\n",
       "      <td>1362.272058</td>\n",
       "      <td>0.555838</td>\n",
       "      <td>0.160226</td>\n",
       "      <td>2.359758</td>\n",
       "      <td>258.163080</td>\n",
       "      <td>2.763841</td>\n",
       "      <td>41.015195</td>\n",
       "      <td>0.580323</td>\n",
       "      <td>NaN</td>\n",
       "      <td>NaN</td>\n",
       "    </tr>\n",
       "    <tr>\n",
       "      <th>std</th>\n",
       "      <td>10.618762</td>\n",
       "      <td>NaN</td>\n",
       "      <td>NaN</td>\n",
       "      <td>NaN</td>\n",
       "      <td>0.133049</td>\n",
       "      <td>3044.765829</td>\n",
       "      <td>0.496878</td>\n",
       "      <td>0.366820</td>\n",
       "      <td>0.897951</td>\n",
       "      <td>257.527812</td>\n",
       "      <td>3.098021</td>\n",
       "      <td>99.792615</td>\n",
       "      <td>2.303441</td>\n",
       "      <td>NaN</td>\n",
       "      <td>NaN</td>\n",
       "    </tr>\n",
       "    <tr>\n",
       "      <th>min</th>\n",
       "      <td>18.000000</td>\n",
       "      <td>NaN</td>\n",
       "      <td>NaN</td>\n",
       "      <td>NaN</td>\n",
       "      <td>0.000000</td>\n",
       "      <td>-8019.000000</td>\n",
       "      <td>0.000000</td>\n",
       "      <td>0.000000</td>\n",
       "      <td>1.000000</td>\n",
       "      <td>0.000000</td>\n",
       "      <td>1.000000</td>\n",
       "      <td>0.000000</td>\n",
       "      <td>0.000000</td>\n",
       "      <td>NaN</td>\n",
       "      <td>NaN</td>\n",
       "    </tr>\n",
       "    <tr>\n",
       "      <th>25%</th>\n",
       "      <td>33.000000</td>\n",
       "      <td>NaN</td>\n",
       "      <td>NaN</td>\n",
       "      <td>NaN</td>\n",
       "      <td>0.000000</td>\n",
       "      <td>72.000000</td>\n",
       "      <td>0.000000</td>\n",
       "      <td>0.000000</td>\n",
       "      <td>1.000000</td>\n",
       "      <td>103.000000</td>\n",
       "      <td>1.000000</td>\n",
       "      <td>0.000000</td>\n",
       "      <td>0.000000</td>\n",
       "      <td>NaN</td>\n",
       "      <td>NaN</td>\n",
       "    </tr>\n",
       "    <tr>\n",
       "      <th>50%</th>\n",
       "      <td>39.000000</td>\n",
       "      <td>NaN</td>\n",
       "      <td>NaN</td>\n",
       "      <td>NaN</td>\n",
       "      <td>0.000000</td>\n",
       "      <td>448.000000</td>\n",
       "      <td>1.000000</td>\n",
       "      <td>0.000000</td>\n",
       "      <td>3.000000</td>\n",
       "      <td>180.000000</td>\n",
       "      <td>2.000000</td>\n",
       "      <td>0.000000</td>\n",
       "      <td>0.000000</td>\n",
       "      <td>NaN</td>\n",
       "      <td>NaN</td>\n",
       "    </tr>\n",
       "    <tr>\n",
       "      <th>75%</th>\n",
       "      <td>48.000000</td>\n",
       "      <td>NaN</td>\n",
       "      <td>NaN</td>\n",
       "      <td>NaN</td>\n",
       "      <td>0.000000</td>\n",
       "      <td>1428.000000</td>\n",
       "      <td>1.000000</td>\n",
       "      <td>0.000000</td>\n",
       "      <td>3.000000</td>\n",
       "      <td>319.000000</td>\n",
       "      <td>3.000000</td>\n",
       "      <td>0.000000</td>\n",
       "      <td>0.000000</td>\n",
       "      <td>NaN</td>\n",
       "      <td>NaN</td>\n",
       "    </tr>\n",
       "    <tr>\n",
       "      <th>max</th>\n",
       "      <td>95.000000</td>\n",
       "      <td>NaN</td>\n",
       "      <td>NaN</td>\n",
       "      <td>NaN</td>\n",
       "      <td>1.000000</td>\n",
       "      <td>102127.000000</td>\n",
       "      <td>1.000000</td>\n",
       "      <td>1.000000</td>\n",
       "      <td>3.000000</td>\n",
       "      <td>4918.000000</td>\n",
       "      <td>63.000000</td>\n",
       "      <td>871.000000</td>\n",
       "      <td>275.000000</td>\n",
       "      <td>NaN</td>\n",
       "      <td>NaN</td>\n",
       "    </tr>\n",
       "  </tbody>\n",
       "</table>\n",
       "</div>"
      ],
      "text/plain": [
       "                 age          job  marital  education       default  \\\n",
       "count   45211.000000        45211  45211.0    45211.0  45211.000000   \n",
       "unique           NaN           12      3.0        4.0           NaN   \n",
       "top              NaN  blue-collar      3.0        3.0           NaN   \n",
       "freq             NaN         9732  27214.0    23202.0           NaN   \n",
       "mean       40.936210          NaN      NaN        NaN      0.018027   \n",
       "std        10.618762          NaN      NaN        NaN      0.133049   \n",
       "min        18.000000          NaN      NaN        NaN      0.000000   \n",
       "25%        33.000000          NaN      NaN        NaN      0.000000   \n",
       "50%        39.000000          NaN      NaN        NaN      0.000000   \n",
       "75%        48.000000          NaN      NaN        NaN      0.000000   \n",
       "max        95.000000          NaN      NaN        NaN      1.000000   \n",
       "\n",
       "              balance       housing          loan       contact      duration  \\\n",
       "count    45211.000000  45211.000000  45211.000000  45211.000000  45211.000000   \n",
       "unique            NaN           NaN           NaN           NaN           NaN   \n",
       "top               NaN           NaN           NaN           NaN           NaN   \n",
       "freq              NaN           NaN           NaN           NaN           NaN   \n",
       "mean      1362.272058      0.555838      0.160226      2.359758    258.163080   \n",
       "std       3044.765829      0.496878      0.366820      0.897951    257.527812   \n",
       "min      -8019.000000      0.000000      0.000000      1.000000      0.000000   \n",
       "25%         72.000000      0.000000      0.000000      1.000000    103.000000   \n",
       "50%        448.000000      1.000000      0.000000      3.000000    180.000000   \n",
       "75%       1428.000000      1.000000      0.000000      3.000000    319.000000   \n",
       "max     102127.000000      1.000000      1.000000      3.000000   4918.000000   \n",
       "\n",
       "            campaign         pdays      previous poutcome      y  \n",
       "count   45211.000000  45211.000000  45211.000000    45211  45211  \n",
       "unique           NaN           NaN           NaN        4      2  \n",
       "top              NaN           NaN           NaN  unknown     no  \n",
       "freq             NaN           NaN           NaN    36959  39922  \n",
       "mean        2.763841     41.015195      0.580323      NaN    NaN  \n",
       "std         3.098021     99.792615      2.303441      NaN    NaN  \n",
       "min         1.000000      0.000000      0.000000      NaN    NaN  \n",
       "25%         1.000000      0.000000      0.000000      NaN    NaN  \n",
       "50%         2.000000      0.000000      0.000000      NaN    NaN  \n",
       "75%         3.000000      0.000000      0.000000      NaN    NaN  \n",
       "max        63.000000    871.000000    275.000000      NaN    NaN  "
      ]
     },
     "execution_count": 36,
     "metadata": {},
     "output_type": "execute_result"
    }
   ],
   "source": [
    "df.describe(include='all')"
   ]
  },
  {
   "cell_type": "code",
   "execution_count": 37,
   "id": "6bf260f5",
   "metadata": {},
   "outputs": [
    {
     "name": "stdout",
     "output_type": "stream",
     "text": [
      "<class 'pandas.core.frame.DataFrame'>\n",
      "RangeIndex: 45211 entries, 0 to 45210\n",
      "Data columns (total 15 columns):\n",
      " #   Column     Non-Null Count  Dtype \n",
      "---  ------     --------------  ----- \n",
      " 0   age        45211 non-null  int64 \n",
      " 1   job        45211 non-null  object\n",
      " 2   marital    45211 non-null  object\n",
      " 3   education  45211 non-null  object\n",
      " 4   default    45211 non-null  int64 \n",
      " 5   balance    45211 non-null  int64 \n",
      " 6   housing    45211 non-null  int64 \n",
      " 7   loan       45211 non-null  int64 \n",
      " 8   contact    45211 non-null  int64 \n",
      " 9   duration   45211 non-null  int64 \n",
      " 10  campaign   45211 non-null  int64 \n",
      " 11  pdays      45211 non-null  int64 \n",
      " 12  previous   45211 non-null  int64 \n",
      " 13  poutcome   45211 non-null  object\n",
      " 14  y          45211 non-null  object\n",
      "dtypes: int64(10), object(5)\n",
      "memory usage: 5.2+ MB\n"
     ]
    }
   ],
   "source": [
    "df.info()"
   ]
  },
  {
   "cell_type": "code",
   "execution_count": 38,
   "id": "5b9384ee",
   "metadata": {
    "scrolled": true
   },
   "outputs": [
    {
     "data": {
      "text/plain": [
       "3    23202\n",
       "4    13301\n",
       "2     6851\n",
       "1     1857\n",
       "Name: education, dtype: int64"
      ]
     },
     "execution_count": 38,
     "metadata": {},
     "output_type": "execute_result"
    }
   ],
   "source": [
    "df['education'].value_counts()"
   ]
  },
  {
   "cell_type": "code",
   "execution_count": 39,
   "id": "9dc04cbc",
   "metadata": {},
   "outputs": [],
   "source": [
    "# education col. appears as an object type. Convert back to int64\n",
    "df['education'] = df['education'].astype(\"int64\")"
   ]
  },
  {
   "cell_type": "code",
   "execution_count": 40,
   "id": "c1f40058",
   "metadata": {},
   "outputs": [
    {
     "data": {
      "text/plain": [
       "array(['unknown', 'failure', 'other', 'success'], dtype=object)"
      ]
     },
     "execution_count": 40,
     "metadata": {},
     "output_type": "execute_result"
    }
   ],
   "source": [
    "df['poutcome'].unique()"
   ]
  },
  {
   "cell_type": "markdown",
   "id": "5adeaa1f",
   "metadata": {},
   "source": [
    "**y - the target column. Change to 1/0**"
   ]
  },
  {
   "cell_type": "code",
   "execution_count": 41,
   "id": "979ee23f",
   "metadata": {},
   "outputs": [
    {
     "data": {
      "text/plain": [
       "array(['no', 'yes'], dtype=object)"
      ]
     },
     "execution_count": 41,
     "metadata": {},
     "output_type": "execute_result"
    }
   ],
   "source": [
    "df['y'].unique()"
   ]
  },
  {
   "cell_type": "code",
   "execution_count": 42,
   "id": "e4daa31a",
   "metadata": {
    "scrolled": true
   },
   "outputs": [
    {
     "data": {
      "text/plain": [
       "array([0, 1])"
      ]
     },
     "execution_count": 42,
     "metadata": {},
     "output_type": "execute_result"
    }
   ],
   "source": [
    "df['y'] = np.where(df['y'] == 'yes', 1, 0)\n",
    "df['y'].unique()"
   ]
  },
  {
   "cell_type": "markdown",
   "id": "5deb5f59",
   "metadata": {},
   "source": [
    "poutcome and job columns will go to the one hot encoder"
   ]
  },
  {
   "cell_type": "markdown",
   "id": "104ad230",
   "metadata": {},
   "source": [
    "# <font color=darkred>EDA - Exploratory Data Analysis </font>"
   ]
  },
  {
   "cell_type": "code",
   "execution_count": 43,
   "id": "a49226a9",
   "metadata": {},
   "outputs": [
    {
     "data": {
      "image/png": "[encoded data removed]",
      "text/plain": [
       "<Figure size 1600x1000 with 12 Axes>"
      ]
     },
     "metadata": {},
     "output_type": "display_data"
    }
   ],
   "source": [
    "df.hist(bins = 40,figsize = (16,10));"
   ]
  },
  {
   "cell_type": "markdown",
   "id": "78b6b36e",
   "metadata": {},
   "source": [
    "Correlations with the target column y"
   ]
  },
  {
   "cell_type": "code",
   "execution_count": 44,
   "id": "52606ee6",
   "metadata": {},
   "outputs": [],
   "source": [
    "corr_matrix = df.corr()"
   ]
  },
  {
   "cell_type": "code",
   "execution_count": 45,
   "id": "31698136",
   "metadata": {},
   "outputs": [
    {
     "data": {
      "text/plain": [
       "y            1.000000\n",
       "duration     0.394521\n",
       "contact      0.148395\n",
       "pdays        0.103323\n",
       "previous     0.093236\n",
       "balance      0.052838\n",
       "education    0.051341\n",
       "age          0.025155\n",
       "default     -0.022419\n",
       "loan        -0.068185\n",
       "campaign    -0.073172\n",
       "housing     -0.139173\n",
       "Name: y, dtype: float64"
      ]
     },
     "execution_count": 45,
     "metadata": {},
     "output_type": "execute_result"
    }
   ],
   "source": [
    "corr_matrix['y'].sort_values(ascending=False)"
   ]
  },
  {
   "cell_type": "code",
   "execution_count": 46,
   "id": "e82cacf9",
   "metadata": {},
   "outputs": [
    {
     "data": {
      "image/png": "[encoded data removed]",
      "text/plain": [
       "<Figure size 640x480 with 1 Axes>"
      ]
     },
     "metadata": {},
     "output_type": "display_data"
    }
   ],
   "source": [
    "sns.scatterplot(data=df, x='age', y='balance', hue = 'y');"
   ]
  },
  {
   "cell_type": "markdown",
   "id": "ea18d8e9",
   "metadata": {},
   "source": [
    "No correlation between age and balance, and with both with the target col."
   ]
  },
  {
   "cell_type": "code",
   "execution_count": 47,
   "id": "25a888cd",
   "metadata": {},
   "outputs": [
    {
     "data": {
      "text/plain": [
       "([0, 1, 2, 3, 4, 5, 6, 7, 8, 9, 10, 11],\n",
       " [Text(0, 0, 'management'),\n",
       "  Text(1, 0, 'technician'),\n",
       "  Text(2, 0, 'entrepreneur'),\n",
       "  Text(3, 0, 'blue-collar'),\n",
       "  Text(4, 0, 'unknown'),\n",
       "  Text(5, 0, 'retired'),\n",
       "  Text(6, 0, 'admin.'),\n",
       "  Text(7, 0, 'services'),\n",
       "  Text(8, 0, 'self-employed'),\n",
       "  Text(9, 0, 'unemployed'),\n",
       "  Text(10, 0, 'housemaid'),\n",
       "  Text(11, 0, 'student')])"
      ]
     },
     "execution_count": 47,
     "metadata": {},
     "output_type": "execute_result"
    },
    {
     "data": {
      "image/png": "[encoded data removed]",
      "text/plain": [
       "<Figure size 558.875x500 with 1 Axes>"
      ]
     },
     "metadata": {},
     "output_type": "display_data"
    }
   ],
   "source": [
    "sns.displot(data=df, x='job', hue = 'y', color=[0.34,0.5,0.6])\n",
    "plt.title(\"Jobs and target col.: will the client subscribe for a term deposit\")\n",
    "plt.xticks(rotation=45)"
   ]
  },
  {
   "cell_type": "code",
   "execution_count": 48,
   "id": "9b526aa7",
   "metadata": {},
   "outputs": [
    {
     "data": {
      "text/plain": [
       "Text(0.5, 1.0, 'Last contact duration and target col.: will the client subscribe for a term deposit')"
      ]
     },
     "execution_count": 48,
     "metadata": {},
     "output_type": "execute_result"
    },
    {
     "data": {
      "image/png": "[encoded data removed]",
      "text/plain": [
       "<Figure size 558.875x500 with 1 Axes>"
      ]
     },
     "metadata": {},
     "output_type": "display_data"
    }
   ],
   "source": [
    "# duration: last contact duration, in seconds (numeric)\n",
    "# duration col. showed a high correlation with the target\n",
    "sns.displot(data=df, x='duration', hue = 'y', color=[0.54,0.2,0.15])\n",
    "plt.title(\"Last contact duration and target col.: will the client subscribe for a term deposit\")"
   ]
  },
  {
   "cell_type": "markdown",
   "id": "d046ef2a",
   "metadata": {},
   "source": [
    "#  <font color= darkred> Data Prep for Modeling </font>"
   ]
  },
  {
   "cell_type": "markdown",
   "id": "bd65bcbf",
   "metadata": {},
   "source": [
    "OneHotEncoder for the categorical columns poutcome and job and then scale remainder of data"
   ]
  },
  {
   "cell_type": "code",
   "execution_count": 49,
   "id": "12a5a6e8",
   "metadata": {},
   "outputs": [],
   "source": [
    "X = df.drop(['y'], axis = 1)\n",
    "y = df['y']"
   ]
  },
  {
   "cell_type": "code",
   "execution_count": 89,
   "id": "326afb6f",
   "metadata": {},
   "outputs": [
    {
     "data": {
      "text/plain": [
       "(45211, 14)"
      ]
     },
     "execution_count": 89,
     "metadata": {},
     "output_type": "execute_result"
    }
   ],
   "source": [
    "X.shape"
   ]
  },
  {
   "cell_type": "code",
   "execution_count": 50,
   "id": "7390fc70",
   "metadata": {},
   "outputs": [],
   "source": [
    "transformer = make_column_transformer((OneHotEncoder(drop='if_binary'),['job', 'poutcome']),\n",
    "                           remainder=StandardScaler())\n",
    "X_t = transformer.fit_transform(X)"
   ]
  },
  {
   "cell_type": "code",
   "execution_count": 51,
   "id": "593dcc34",
   "metadata": {
    "scrolled": true
   },
   "outputs": [
    {
     "data": {
      "text/plain": [
       "array([[ 0.        ,  0.        ,  0.        , ..., -0.56935064,\n",
       "        -0.41100886, -0.25194037],\n",
       "       [ 0.        ,  0.        ,  0.        , ..., -0.56935064,\n",
       "        -0.41100886, -0.25194037],\n",
       "       [ 0.        ,  0.        ,  1.        , ..., -0.56935064,\n",
       "        -0.41100886, -0.25194037],\n",
       "       ...,\n",
       "       [ 0.        ,  0.        ,  0.        , ...,  0.72181052,\n",
       "         1.43283534,  1.05047333],\n",
       "       [ 0.        ,  1.        ,  0.        , ...,  0.39902023,\n",
       "        -0.41100886, -0.25194037],\n",
       "       [ 0.        ,  0.        ,  1.        , ..., -0.24656035,\n",
       "         1.47291891,  4.52357654]])"
      ]
     },
     "execution_count": 51,
     "metadata": {},
     "output_type": "execute_result"
    }
   ],
   "source": [
    "X_t"
   ]
  },
  {
   "cell_type": "code",
   "execution_count": 52,
   "id": "ad102b6b",
   "metadata": {},
   "outputs": [
    {
     "data": {
      "text/html": [
       "<div>\n",
       "<style scoped>\n",
       "    .dataframe tbody tr th:only-of-type {\n",
       "        vertical-align: middle;\n",
       "    }\n",
       "\n",
       "    .dataframe tbody tr th {\n",
       "        vertical-align: top;\n",
       "    }\n",
       "\n",
       "    .dataframe thead th {\n",
       "        text-align: right;\n",
       "    }\n",
       "</style>\n",
       "<table border=\"1\" class=\"dataframe\">\n",
       "  <thead>\n",
       "    <tr style=\"text-align: right;\">\n",
       "      <th></th>\n",
       "      <th>0</th>\n",
       "      <th>1</th>\n",
       "      <th>2</th>\n",
       "      <th>3</th>\n",
       "      <th>4</th>\n",
       "      <th>5</th>\n",
       "      <th>6</th>\n",
       "      <th>7</th>\n",
       "      <th>8</th>\n",
       "      <th>9</th>\n",
       "      <th>...</th>\n",
       "      <th>18</th>\n",
       "      <th>19</th>\n",
       "      <th>20</th>\n",
       "      <th>21</th>\n",
       "      <th>22</th>\n",
       "      <th>23</th>\n",
       "      <th>24</th>\n",
       "      <th>25</th>\n",
       "      <th>26</th>\n",
       "      <th>27</th>\n",
       "    </tr>\n",
       "  </thead>\n",
       "  <tbody>\n",
       "    <tr>\n",
       "      <th>0</th>\n",
       "      <td>0.0</td>\n",
       "      <td>0.0</td>\n",
       "      <td>0.0</td>\n",
       "      <td>0.0</td>\n",
       "      <td>1.0</td>\n",
       "      <td>0.0</td>\n",
       "      <td>0.0</td>\n",
       "      <td>0.0</td>\n",
       "      <td>0.0</td>\n",
       "      <td>0.0</td>\n",
       "      <td>...</td>\n",
       "      <td>1.206484</td>\n",
       "      <td>-0.13549</td>\n",
       "      <td>0.256419</td>\n",
       "      <td>0.893915</td>\n",
       "      <td>-0.436803</td>\n",
       "      <td>-1.514306</td>\n",
       "      <td>0.011016</td>\n",
       "      <td>-0.569351</td>\n",
       "      <td>-0.411009</td>\n",
       "      <td>-0.25194</td>\n",
       "    </tr>\n",
       "    <tr>\n",
       "      <th>1</th>\n",
       "      <td>0.0</td>\n",
       "      <td>0.0</td>\n",
       "      <td>0.0</td>\n",
       "      <td>0.0</td>\n",
       "      <td>0.0</td>\n",
       "      <td>0.0</td>\n",
       "      <td>0.0</td>\n",
       "      <td>0.0</td>\n",
       "      <td>0.0</td>\n",
       "      <td>1.0</td>\n",
       "      <td>...</td>\n",
       "      <td>-0.077715</td>\n",
       "      <td>-0.13549</td>\n",
       "      <td>-0.437895</td>\n",
       "      <td>0.893915</td>\n",
       "      <td>-0.436803</td>\n",
       "      <td>-1.514306</td>\n",
       "      <td>-0.416127</td>\n",
       "      <td>-0.569351</td>\n",
       "      <td>-0.411009</td>\n",
       "      <td>-0.25194</td>\n",
       "    </tr>\n",
       "    <tr>\n",
       "      <th>2</th>\n",
       "      <td>0.0</td>\n",
       "      <td>0.0</td>\n",
       "      <td>1.0</td>\n",
       "      <td>0.0</td>\n",
       "      <td>0.0</td>\n",
       "      <td>0.0</td>\n",
       "      <td>0.0</td>\n",
       "      <td>0.0</td>\n",
       "      <td>0.0</td>\n",
       "      <td>0.0</td>\n",
       "      <td>...</td>\n",
       "      <td>-0.077715</td>\n",
       "      <td>-0.13549</td>\n",
       "      <td>-0.446762</td>\n",
       "      <td>0.893915</td>\n",
       "      <td>2.289359</td>\n",
       "      <td>-1.514306</td>\n",
       "      <td>-0.707361</td>\n",
       "      <td>-0.569351</td>\n",
       "      <td>-0.411009</td>\n",
       "      <td>-0.25194</td>\n",
       "    </tr>\n",
       "    <tr>\n",
       "      <th>3</th>\n",
       "      <td>0.0</td>\n",
       "      <td>1.0</td>\n",
       "      <td>0.0</td>\n",
       "      <td>0.0</td>\n",
       "      <td>0.0</td>\n",
       "      <td>0.0</td>\n",
       "      <td>0.0</td>\n",
       "      <td>0.0</td>\n",
       "      <td>0.0</td>\n",
       "      <td>0.0</td>\n",
       "      <td>...</td>\n",
       "      <td>-2.646114</td>\n",
       "      <td>-0.13549</td>\n",
       "      <td>0.047205</td>\n",
       "      <td>0.893915</td>\n",
       "      <td>-0.436803</td>\n",
       "      <td>-1.514306</td>\n",
       "      <td>-0.645231</td>\n",
       "      <td>-0.569351</td>\n",
       "      <td>-0.411009</td>\n",
       "      <td>-0.25194</td>\n",
       "    </tr>\n",
       "    <tr>\n",
       "      <th>4</th>\n",
       "      <td>0.0</td>\n",
       "      <td>0.0</td>\n",
       "      <td>0.0</td>\n",
       "      <td>0.0</td>\n",
       "      <td>0.0</td>\n",
       "      <td>0.0</td>\n",
       "      <td>0.0</td>\n",
       "      <td>0.0</td>\n",
       "      <td>0.0</td>\n",
       "      <td>0.0</td>\n",
       "      <td>...</td>\n",
       "      <td>-2.646114</td>\n",
       "      <td>-0.13549</td>\n",
       "      <td>-0.447091</td>\n",
       "      <td>-1.118674</td>\n",
       "      <td>-0.436803</td>\n",
       "      <td>-1.514306</td>\n",
       "      <td>-0.233620</td>\n",
       "      <td>-0.569351</td>\n",
       "      <td>-0.411009</td>\n",
       "      <td>-0.25194</td>\n",
       "    </tr>\n",
       "  </tbody>\n",
       "</table>\n",
       "<p>5 rows × 28 columns</p>\n",
       "</div>"
      ],
      "text/plain": [
       "    0    1    2    3    4    5    6    7    8    9   ...        18       19  \\\n",
       "0  0.0  0.0  0.0  0.0  1.0  0.0  0.0  0.0  0.0  0.0  ...  1.206484 -0.13549   \n",
       "1  0.0  0.0  0.0  0.0  0.0  0.0  0.0  0.0  0.0  1.0  ... -0.077715 -0.13549   \n",
       "2  0.0  0.0  1.0  0.0  0.0  0.0  0.0  0.0  0.0  0.0  ... -0.077715 -0.13549   \n",
       "3  0.0  1.0  0.0  0.0  0.0  0.0  0.0  0.0  0.0  0.0  ... -2.646114 -0.13549   \n",
       "4  0.0  0.0  0.0  0.0  0.0  0.0  0.0  0.0  0.0  0.0  ... -2.646114 -0.13549   \n",
       "\n",
       "         20        21        22        23        24        25        26  \\\n",
       "0  0.256419  0.893915 -0.436803 -1.514306  0.011016 -0.569351 -0.411009   \n",
       "1 -0.437895  0.893915 -0.436803 -1.514306 -0.416127 -0.569351 -0.411009   \n",
       "2 -0.446762  0.893915  2.289359 -1.514306 -0.707361 -0.569351 -0.411009   \n",
       "3  0.047205  0.893915 -0.436803 -1.514306 -0.645231 -0.569351 -0.411009   \n",
       "4 -0.447091 -1.118674 -0.436803 -1.514306 -0.233620 -0.569351 -0.411009   \n",
       "\n",
       "        27  \n",
       "0 -0.25194  \n",
       "1 -0.25194  \n",
       "2 -0.25194  \n",
       "3 -0.25194  \n",
       "4 -0.25194  \n",
       "\n",
       "[5 rows x 28 columns]"
      ]
     },
     "execution_count": 52,
     "metadata": {},
     "output_type": "execute_result"
    }
   ],
   "source": [
    "X_t = pd.DataFrame(X_t)\n",
    "X_t.head()"
   ]
  },
  {
   "cell_type": "code",
   "execution_count": 53,
   "id": "767d7656",
   "metadata": {},
   "outputs": [],
   "source": [
    "features_names = transformer.get_feature_names_out()"
   ]
  },
  {
   "cell_type": "code",
   "execution_count": 54,
   "id": "55c9df04",
   "metadata": {},
   "outputs": [
    {
     "data": {
      "text/plain": [
       "array(['onehotencoder__job_admin.', 'onehotencoder__job_blue-collar',\n",
       "       'onehotencoder__job_entrepreneur', 'onehotencoder__job_housemaid',\n",
       "       'onehotencoder__job_management', 'onehotencoder__job_retired',\n",
       "       'onehotencoder__job_self-employed', 'onehotencoder__job_services',\n",
       "       'onehotencoder__job_student', 'onehotencoder__job_technician',\n",
       "       'onehotencoder__job_unemployed', 'onehotencoder__job_unknown',\n",
       "       'onehotencoder__poutcome_failure', 'onehotencoder__poutcome_other',\n",
       "       'onehotencoder__poutcome_success',\n",
       "       'onehotencoder__poutcome_unknown', 'remainder__age',\n",
       "       'remainder__marital', 'remainder__education', 'remainder__default',\n",
       "       'remainder__balance', 'remainder__housing', 'remainder__loan',\n",
       "       'remainder__contact', 'remainder__duration', 'remainder__campaign',\n",
       "       'remainder__pdays', 'remainder__previous'], dtype=object)"
      ]
     },
     "execution_count": 54,
     "metadata": {},
     "output_type": "execute_result"
    }
   ],
   "source": [
    "features_names"
   ]
  },
  {
   "cell_type": "code",
   "execution_count": 55,
   "id": "a74863f6",
   "metadata": {},
   "outputs": [],
   "source": [
    "X_t.columns = features_names"
   ]
  },
  {
   "cell_type": "code",
   "execution_count": 56,
   "id": "0785c819",
   "metadata": {},
   "outputs": [
    {
     "data": {
      "text/html": [
       "<div>\n",
       "<style scoped>\n",
       "    .dataframe tbody tr th:only-of-type {\n",
       "        vertical-align: middle;\n",
       "    }\n",
       "\n",
       "    .dataframe tbody tr th {\n",
       "        vertical-align: top;\n",
       "    }\n",
       "\n",
       "    .dataframe thead th {\n",
       "        text-align: right;\n",
       "    }\n",
       "</style>\n",
       "<table border=\"1\" class=\"dataframe\">\n",
       "  <thead>\n",
       "    <tr style=\"text-align: right;\">\n",
       "      <th></th>\n",
       "      <th>onehotencoder__job_admin.</th>\n",
       "      <th>onehotencoder__job_blue-collar</th>\n",
       "      <th>onehotencoder__job_entrepreneur</th>\n",
       "      <th>onehotencoder__job_housemaid</th>\n",
       "      <th>onehotencoder__job_management</th>\n",
       "      <th>onehotencoder__job_retired</th>\n",
       "      <th>onehotencoder__job_self-employed</th>\n",
       "      <th>onehotencoder__job_services</th>\n",
       "      <th>onehotencoder__job_student</th>\n",
       "      <th>onehotencoder__job_technician</th>\n",
       "      <th>...</th>\n",
       "      <th>remainder__education</th>\n",
       "      <th>remainder__default</th>\n",
       "      <th>remainder__balance</th>\n",
       "      <th>remainder__housing</th>\n",
       "      <th>remainder__loan</th>\n",
       "      <th>remainder__contact</th>\n",
       "      <th>remainder__duration</th>\n",
       "      <th>remainder__campaign</th>\n",
       "      <th>remainder__pdays</th>\n",
       "      <th>remainder__previous</th>\n",
       "    </tr>\n",
       "  </thead>\n",
       "  <tbody>\n",
       "    <tr>\n",
       "      <th>0</th>\n",
       "      <td>0.0</td>\n",
       "      <td>0.0</td>\n",
       "      <td>0.0</td>\n",
       "      <td>0.0</td>\n",
       "      <td>1.0</td>\n",
       "      <td>0.0</td>\n",
       "      <td>0.0</td>\n",
       "      <td>0.0</td>\n",
       "      <td>0.0</td>\n",
       "      <td>0.0</td>\n",
       "      <td>...</td>\n",
       "      <td>1.206484</td>\n",
       "      <td>-0.13549</td>\n",
       "      <td>0.256419</td>\n",
       "      <td>0.893915</td>\n",
       "      <td>-0.436803</td>\n",
       "      <td>-1.514306</td>\n",
       "      <td>0.011016</td>\n",
       "      <td>-0.569351</td>\n",
       "      <td>-0.411009</td>\n",
       "      <td>-0.25194</td>\n",
       "    </tr>\n",
       "    <tr>\n",
       "      <th>1</th>\n",
       "      <td>0.0</td>\n",
       "      <td>0.0</td>\n",
       "      <td>0.0</td>\n",
       "      <td>0.0</td>\n",
       "      <td>0.0</td>\n",
       "      <td>0.0</td>\n",
       "      <td>0.0</td>\n",
       "      <td>0.0</td>\n",
       "      <td>0.0</td>\n",
       "      <td>1.0</td>\n",
       "      <td>...</td>\n",
       "      <td>-0.077715</td>\n",
       "      <td>-0.13549</td>\n",
       "      <td>-0.437895</td>\n",
       "      <td>0.893915</td>\n",
       "      <td>-0.436803</td>\n",
       "      <td>-1.514306</td>\n",
       "      <td>-0.416127</td>\n",
       "      <td>-0.569351</td>\n",
       "      <td>-0.411009</td>\n",
       "      <td>-0.25194</td>\n",
       "    </tr>\n",
       "    <tr>\n",
       "      <th>2</th>\n",
       "      <td>0.0</td>\n",
       "      <td>0.0</td>\n",
       "      <td>1.0</td>\n",
       "      <td>0.0</td>\n",
       "      <td>0.0</td>\n",
       "      <td>0.0</td>\n",
       "      <td>0.0</td>\n",
       "      <td>0.0</td>\n",
       "      <td>0.0</td>\n",
       "      <td>0.0</td>\n",
       "      <td>...</td>\n",
       "      <td>-0.077715</td>\n",
       "      <td>-0.13549</td>\n",
       "      <td>-0.446762</td>\n",
       "      <td>0.893915</td>\n",
       "      <td>2.289359</td>\n",
       "      <td>-1.514306</td>\n",
       "      <td>-0.707361</td>\n",
       "      <td>-0.569351</td>\n",
       "      <td>-0.411009</td>\n",
       "      <td>-0.25194</td>\n",
       "    </tr>\n",
       "    <tr>\n",
       "      <th>3</th>\n",
       "      <td>0.0</td>\n",
       "      <td>1.0</td>\n",
       "      <td>0.0</td>\n",
       "      <td>0.0</td>\n",
       "      <td>0.0</td>\n",
       "      <td>0.0</td>\n",
       "      <td>0.0</td>\n",
       "      <td>0.0</td>\n",
       "      <td>0.0</td>\n",
       "      <td>0.0</td>\n",
       "      <td>...</td>\n",
       "      <td>-2.646114</td>\n",
       "      <td>-0.13549</td>\n",
       "      <td>0.047205</td>\n",
       "      <td>0.893915</td>\n",
       "      <td>-0.436803</td>\n",
       "      <td>-1.514306</td>\n",
       "      <td>-0.645231</td>\n",
       "      <td>-0.569351</td>\n",
       "      <td>-0.411009</td>\n",
       "      <td>-0.25194</td>\n",
       "    </tr>\n",
       "    <tr>\n",
       "      <th>4</th>\n",
       "      <td>0.0</td>\n",
       "      <td>0.0</td>\n",
       "      <td>0.0</td>\n",
       "      <td>0.0</td>\n",
       "      <td>0.0</td>\n",
       "      <td>0.0</td>\n",
       "      <td>0.0</td>\n",
       "      <td>0.0</td>\n",
       "      <td>0.0</td>\n",
       "      <td>0.0</td>\n",
       "      <td>...</td>\n",
       "      <td>-2.646114</td>\n",
       "      <td>-0.13549</td>\n",
       "      <td>-0.447091</td>\n",
       "      <td>-1.118674</td>\n",
       "      <td>-0.436803</td>\n",
       "      <td>-1.514306</td>\n",
       "      <td>-0.233620</td>\n",
       "      <td>-0.569351</td>\n",
       "      <td>-0.411009</td>\n",
       "      <td>-0.25194</td>\n",
       "    </tr>\n",
       "  </tbody>\n",
       "</table>\n",
       "<p>5 rows × 28 columns</p>\n",
       "</div>"
      ],
      "text/plain": [
       "   onehotencoder__job_admin.  onehotencoder__job_blue-collar  \\\n",
       "0                        0.0                             0.0   \n",
       "1                        0.0                             0.0   \n",
       "2                        0.0                             0.0   \n",
       "3                        0.0                             1.0   \n",
       "4                        0.0                             0.0   \n",
       "\n",
       "   onehotencoder__job_entrepreneur  onehotencoder__job_housemaid  \\\n",
       "0                              0.0                           0.0   \n",
       "1                              0.0                           0.0   \n",
       "2                              1.0                           0.0   \n",
       "3                              0.0                           0.0   \n",
       "4                              0.0                           0.0   \n",
       "\n",
       "   onehotencoder__job_management  onehotencoder__job_retired  \\\n",
       "0                            1.0                         0.0   \n",
       "1                            0.0                         0.0   \n",
       "2                            0.0                         0.0   \n",
       "3                            0.0                         0.0   \n",
       "4                            0.0                         0.0   \n",
       "\n",
       "   onehotencoder__job_self-employed  onehotencoder__job_services  \\\n",
       "0                               0.0                          0.0   \n",
       "1                               0.0                          0.0   \n",
       "2                               0.0                          0.0   \n",
       "3                               0.0                          0.0   \n",
       "4                               0.0                          0.0   \n",
       "\n",
       "   onehotencoder__job_student  onehotencoder__job_technician  ...  \\\n",
       "0                         0.0                            0.0  ...   \n",
       "1                         0.0                            1.0  ...   \n",
       "2                         0.0                            0.0  ...   \n",
       "3                         0.0                            0.0  ...   \n",
       "4                         0.0                            0.0  ...   \n",
       "\n",
       "   remainder__education  remainder__default  remainder__balance  \\\n",
       "0              1.206484            -0.13549            0.256419   \n",
       "1             -0.077715            -0.13549           -0.437895   \n",
       "2             -0.077715            -0.13549           -0.446762   \n",
       "3             -2.646114            -0.13549            0.047205   \n",
       "4             -2.646114            -0.13549           -0.447091   \n",
       "\n",
       "   remainder__housing  remainder__loan  remainder__contact  \\\n",
       "0            0.893915        -0.436803           -1.514306   \n",
       "1            0.893915        -0.436803           -1.514306   \n",
       "2            0.893915         2.289359           -1.514306   \n",
       "3            0.893915        -0.436803           -1.514306   \n",
       "4           -1.118674        -0.436803           -1.514306   \n",
       "\n",
       "   remainder__duration  remainder__campaign  remainder__pdays  \\\n",
       "0             0.011016            -0.569351         -0.411009   \n",
       "1            -0.416127            -0.569351         -0.411009   \n",
       "2            -0.707361            -0.569351         -0.411009   \n",
       "3            -0.645231            -0.569351         -0.411009   \n",
       "4            -0.233620            -0.569351         -0.411009   \n",
       "\n",
       "   remainder__previous  \n",
       "0             -0.25194  \n",
       "1             -0.25194  \n",
       "2             -0.25194  \n",
       "3             -0.25194  \n",
       "4             -0.25194  \n",
       "\n",
       "[5 rows x 28 columns]"
      ]
     },
     "execution_count": 56,
     "metadata": {},
     "output_type": "execute_result"
    }
   ],
   "source": [
    "X_t.head()"
   ]
  },
  {
   "cell_type": "code",
   "execution_count": 57,
   "id": "aea64594",
   "metadata": {},
   "outputs": [],
   "source": [
    "X_train, X_test, y_train, y_test = train_test_split(X_t, y, test_size=0.25,\n",
    "                                                    random_state = 34, stratify=y)"
   ]
  },
  {
   "cell_type": "code",
   "execution_count": 58,
   "id": "253852ad",
   "metadata": {},
   "outputs": [
    {
     "data": {
      "text/plain": [
       "0    0.883007\n",
       "1    0.116993\n",
       "Name: y, dtype: float64"
      ]
     },
     "execution_count": 58,
     "metadata": {},
     "output_type": "execute_result"
    }
   ],
   "source": [
    "y_train.value_counts(normalize=True)"
   ]
  },
  {
   "cell_type": "code",
   "execution_count": 59,
   "id": "8cac001a",
   "metadata": {},
   "outputs": [
    {
     "data": {
      "text/plain": [
       "0    0.88304\n",
       "1    0.11696\n",
       "Name: y, dtype: float64"
      ]
     },
     "execution_count": 59,
     "metadata": {},
     "output_type": "execute_result"
    }
   ],
   "source": [
    "y_test.value_counts(normalize=True)"
   ]
  },
  {
   "cell_type": "markdown",
   "id": "19454ed1",
   "metadata": {},
   "source": [
    "target values are proportionaly spread between X train and test"
   ]
  },
  {
   "cell_type": "markdown",
   "id": "0e85dd28",
   "metadata": {},
   "source": [
    "# <font color=blue>ML Models </font>\n",
    "### <font color=darkblue>Comparison of the performance of Classifing Models: k-nearest neighbors, logistic regression, decision trees, and support vector machines. The score is going to be according to accuracy of predictions.</font>"
   ]
  },
  {
   "cell_type": "code",
   "execution_count": 60,
   "id": "5c21e5fa",
   "metadata": {},
   "outputs": [
    {
     "data": {
      "text/plain": [
       "DummyClassifier()"
      ]
     },
     "execution_count": 60,
     "metadata": {},
     "output_type": "execute_result"
    }
   ],
   "source": [
    "# Dummy Classifier - to check the baseline\n",
    "dummy = DummyClassifier()\n",
    "dummy.fit(X_train, y_train)"
   ]
  },
  {
   "cell_type": "code",
   "execution_count": 61,
   "id": "f84d4a7a",
   "metadata": {},
   "outputs": [
    {
     "name": "stdout",
     "output_type": "stream",
     "text": [
      "The accuracy score of the dummy model for Train is 0.88\n"
     ]
    }
   ],
   "source": [
    "print(\"The accuracy score of the dummy model for Train is {:.2f}\".format(dummy.score(X_train, y_train)))"
   ]
  },
  {
   "cell_type": "code",
   "execution_count": 62,
   "id": "c4f084c6",
   "metadata": {},
   "outputs": [
    {
     "name": "stdout",
     "output_type": "stream",
     "text": [
      "The accuracy score of the model for Test is 0.88\n"
     ]
    }
   ],
   "source": [
    "print(\"The accuracy score of the model for Test is {:.2f}\".format(dummy.score(X_test, y_test)))"
   ]
  },
  {
   "cell_type": "markdown",
   "id": "8b36daf1",
   "metadata": {},
   "source": [
    "This is not a surprise, and just reflects the percent of 1 values in the taget (almost 12%, see above)"
   ]
  },
  {
   "cell_type": "markdown",
   "id": "adc89b08",
   "metadata": {},
   "source": [
    "##  <font color= blue>KNN Classifier - k nearest neighbors algorithm</font>\n",
    "###  <font color= blue>GridSearchCV</font>"
   ]
  },
  {
   "cell_type": "code",
   "execution_count": 64,
   "id": "113fba22",
   "metadata": {},
   "outputs": [
    {
     "data": {
      "text/plain": [
       "KNeighborsClassifier()"
      ]
     },
     "execution_count": 64,
     "metadata": {},
     "output_type": "execute_result"
    }
   ],
   "source": [
    "knn = KNeighborsClassifier(n_neighbors = 5)\n",
    "knn.fit(X_train, y_train)"
   ]
  },
  {
   "cell_type": "code",
   "execution_count": 65,
   "id": "02795fc4",
   "metadata": {},
   "outputs": [
    {
     "name": "stdout",
     "output_type": "stream",
     "text": [
      "KNN mse, for Test :  0.10846677873131028\n"
     ]
    }
   ],
   "source": [
    "preds_knn = knn.predict(X_test)\n",
    "knn_mse = mean_squared_error(y_test, preds_knn)\n",
    "print('KNN mse, for Test : ', knn_mse)"
   ]
  },
  {
   "cell_type": "code",
   "execution_count": 66,
   "id": "0dbb27e9",
   "metadata": {},
   "outputs": [
    {
     "name": "stdout",
     "output_type": "stream",
     "text": [
      "The accuracy score of KNN for Train is:  0.917099209626047\n"
     ]
    }
   ],
   "source": [
    "print(\"The accuracy score of KNN for Train is: \",\n",
    "      knn.score(X_train, y_train))"
   ]
  },
  {
   "cell_type": "code",
   "execution_count": 68,
   "id": "15568d8c",
   "metadata": {},
   "outputs": [
    {
     "name": "stdout",
     "output_type": "stream",
     "text": [
      "The accuracy score of KNN for Test is:  0.8915332212686897\n"
     ]
    }
   ],
   "source": [
    "print(\"The accuracy score of KNN for Test is: \",\n",
    "      knn.score(X_test, y_test))"
   ]
  },
  {
   "cell_type": "code",
   "execution_count": null,
   "id": "7fe39831",
   "metadata": {},
   "outputs": [],
   "source": []
  },
  {
   "cell_type": "markdown",
   "id": "d4a0c746",
   "metadata": {},
   "source": [
    "## <font color= blue>Logistic Regression Model </font>"
   ]
  },
  {
   "cell_type": "code",
   "execution_count": 69,
   "id": "d43d0150",
   "metadata": {},
   "outputs": [],
   "source": [
    "lgr = LogisticRegression()"
   ]
  },
  {
   "cell_type": "code",
   "execution_count": 70,
   "id": "9357c454",
   "metadata": {},
   "outputs": [
    {
     "data": {
      "text/plain": [
       "LogisticRegression()"
      ]
     },
     "execution_count": 70,
     "metadata": {},
     "output_type": "execute_result"
    }
   ],
   "source": [
    "lgr.fit(X_train, y_train)"
   ]
  },
  {
   "cell_type": "code",
   "execution_count": 71,
   "id": "0bddd160",
   "metadata": {},
   "outputs": [
    {
     "name": "stdout",
     "output_type": "stream",
     "text": [
      "mse for LogisticRegression = 0.1016\n"
     ]
    }
   ],
   "source": [
    "preds_lgr = lgr.predict(X_test)\n",
    "lgr_mse = mean_squared_error(y_test, preds_lgr)\n",
    "print(\"mse for LogisticRegression = {:.4f}\".format(lgr_mse))"
   ]
  },
  {
   "cell_type": "code",
   "execution_count": 72,
   "id": "13a85ed5",
   "metadata": {},
   "outputs": [
    {
     "name": "stdout",
     "output_type": "stream",
     "text": [
      "The accuracy score of LGR for Train is 0.9014\n"
     ]
    }
   ],
   "source": [
    "print(\"The accuracy score of LGR for Train is {:.4f}\"\n",
    "      .format(lgr.score(X_train, y_train)))"
   ]
  },
  {
   "cell_type": "code",
   "execution_count": 73,
   "id": "7994f144",
   "metadata": {},
   "outputs": [
    {
     "name": "stdout",
     "output_type": "stream",
     "text": [
      "The accuracy score of LGR for Test is 0.8984\n"
     ]
    }
   ],
   "source": [
    "print(\"The accuracy score of LGR for Test is {:.4f}\"\n",
    "      .format(lgr.score(X_test, y_test)))"
   ]
  },
  {
   "cell_type": "markdown",
   "id": "0a0f5709",
   "metadata": {},
   "source": [
    "Let's look at the features importance according to Logistic Regression model:"
   ]
  },
  {
   "cell_type": "code",
   "execution_count": 74,
   "id": "0263201b",
   "metadata": {},
   "outputs": [
    {
     "name": "stdout",
     "output_type": "stream",
     "text": [
      "Logistic Regression Coefs: \n",
      "    onehotencoder__job_admin.  onehotencoder__job_blue-collar  \\\n",
      "0                   0.164875                       -0.247066   \n",
      "\n",
      "   onehotencoder__job_entrepreneur  onehotencoder__job_housemaid  \\\n",
      "0                        -0.349722                     -0.395828   \n",
      "\n",
      "   onehotencoder__job_management  onehotencoder__job_retired  \\\n",
      "0                       -0.03343                    0.517598   \n",
      "\n",
      "   onehotencoder__job_self-employed  onehotencoder__job_services  \\\n",
      "0                         -0.057965                    -0.159687   \n",
      "\n",
      "   onehotencoder__job_student  onehotencoder__job_technician  ...  \\\n",
      "0                    0.774624                      -0.077458  ...   \n",
      "\n",
      "   remainder__education  remainder__default  remainder__balance  \\\n",
      "0              0.080932             -0.0169            0.061103   \n",
      "\n",
      "   remainder__housing  remainder__loan  remainder__contact  \\\n",
      "0           -0.393841        -0.198547            0.492077   \n",
      "\n",
      "   remainder__duration  remainder__campaign  remainder__pdays  \\\n",
      "0             1.043213            -0.331068           0.00984   \n",
      "\n",
      "   remainder__previous  \n",
      "0             0.049197  \n",
      "\n",
      "[1 rows x 28 columns]\n"
     ]
    }
   ],
   "source": [
    "coefs = lgr.coef_\n",
    "coefs_df = pd.DataFrame(coefs, columns=X_train.keys())\n",
    "print('Logistic Regression Coefs: \\n', coefs_df)"
   ]
  },
  {
   "cell_type": "code",
   "execution_count": 75,
   "id": "160b0a14",
   "metadata": {},
   "outputs": [
    {
     "data": {
      "text/plain": [
       "onehotencoder__poutcome_success     1.7392\n",
       "remainder__duration                 1.0432\n",
       "onehotencoder__job_student          0.7746\n",
       "onehotencoder__job_retired          0.5176\n",
       "remainder__contact                  0.4921\n",
       "onehotencoder__job_admin.           0.1649\n",
       "remainder__education                0.0809\n",
       "remainder__balance                  0.0611\n",
       "remainder__previous                 0.0492\n",
       "onehotencoder__job_unknown          0.0376\n",
       "remainder__age                      0.0299\n",
       "remainder__pdays                    0.0098\n",
       "remainder__default                 -0.0169\n",
       "onehotencoder__job_management      -0.0334\n",
       "onehotencoder__job_self-employed   -0.0580\n",
       "onehotencoder__job_technician      -0.0775\n",
       "remainder__marital                 -0.1326\n",
       "onehotencoder__job_unemployed      -0.1524\n",
       "onehotencoder__job_services        -0.1597\n",
       "remainder__loan                    -0.1985\n",
       "onehotencoder__job_blue-collar     -0.2471\n",
       "onehotencoder__poutcome_other      -0.2988\n",
       "remainder__campaign                -0.3311\n",
       "onehotencoder__job_entrepreneur    -0.3497\n",
       "remainder__housing                 -0.3938\n",
       "onehotencoder__job_housemaid       -0.3958\n",
       "onehotencoder__poutcome_failure    -0.5681\n",
       "onehotencoder__poutcome_unknown    -0.8511\n",
       "dtype: float64"
      ]
     },
     "execution_count": 75,
     "metadata": {},
     "output_type": "execute_result"
    }
   ],
   "source": [
    "coefs_df.sum().sort_values(ascending=False).round(4)"
   ]
  },
  {
   "cell_type": "code",
   "execution_count": null,
   "id": "759781de",
   "metadata": {},
   "outputs": [],
   "source": [
    "# We can see that the most important features for a positive outcome are: \n",
    "# poutcome = success, duration (of last call with the client), job = student, job = retired,\n",
    "# and contact (communication type)"
   ]
  },
  {
   "cell_type": "code",
   "execution_count": null,
   "id": "43b1ef11",
   "metadata": {},
   "outputs": [],
   "source": []
  },
  {
   "cell_type": "markdown",
   "id": "2d25f117",
   "metadata": {},
   "source": [
    "## <font color= blue>Decision Tree Model</font>"
   ]
  },
  {
   "cell_type": "code",
   "execution_count": 76,
   "id": "1cbaaf89",
   "metadata": {},
   "outputs": [
    {
     "data": {
      "text/plain": [
       "DecisionTreeClassifier(random_state=42)"
      ]
     },
     "execution_count": 76,
     "metadata": {},
     "output_type": "execute_result"
    }
   ],
   "source": [
    "dt = DecisionTreeClassifier(random_state = 42)\n",
    "dt.fit(X_train, y_train)"
   ]
  },
  {
   "cell_type": "code",
   "execution_count": 77,
   "id": "faa0c35a",
   "metadata": {},
   "outputs": [
    {
     "data": {
      "text/plain": [
       "31"
      ]
     },
     "execution_count": 77,
     "metadata": {},
     "output_type": "execute_result"
    }
   ],
   "source": [
    "dt.get_depth()"
   ]
  },
  {
   "cell_type": "code",
   "execution_count": 78,
   "id": "17106e69",
   "metadata": {},
   "outputs": [
    {
     "name": "stdout",
     "output_type": "stream",
     "text": [
      "The accuracy score of the decision tree for Train is 1.0000\n"
     ]
    }
   ],
   "source": [
    "print(\"The accuracy score of the decision tree for Train is {:.4f}\"\n",
    "      .format(dt.score(X_train, y_train)))"
   ]
  },
  {
   "cell_type": "markdown",
   "id": "ed9b8516",
   "metadata": {},
   "source": [
    "As expected, train accuracy is 100%, a perfect fit"
   ]
  },
  {
   "cell_type": "code",
   "execution_count": 79,
   "id": "8cd8cf74",
   "metadata": {},
   "outputs": [
    {
     "name": "stdout",
     "output_type": "stream",
     "text": [
      "The accuracy score of the decision tree for Test is 0.8628\n"
     ]
    }
   ],
   "source": [
    "print(\"The accuracy score of the decision tree for Test is {:.4f}\"\n",
    "      .format(dt.score(X_test, y_test)))"
   ]
  },
  {
   "cell_type": "markdown",
   "id": "e0c97ced",
   "metadata": {},
   "source": [
    "Decision Tree over fit to the train set, and the test score is relatively low"
   ]
  },
  {
   "cell_type": "code",
   "execution_count": 83,
   "id": "6c1c16ff",
   "metadata": {},
   "outputs": [
    {
     "data": {
      "text/plain": [
       "DecisionTreeClassifier(max_depth=5, random_state=42)"
      ]
     },
     "execution_count": 83,
     "metadata": {},
     "output_type": "execute_result"
    }
   ],
   "source": [
    "dt2 = DecisionTreeClassifier(max_depth = 5, random_state = 42)\n",
    "dt2.fit(X_train, y_train)"
   ]
  },
  {
   "cell_type": "code",
   "execution_count": 84,
   "id": "0fef7ff5",
   "metadata": {},
   "outputs": [
    {
     "name": "stdout",
     "output_type": "stream",
     "text": [
      "The accuracy score of the 2nd decision tree for Train is 0.9040\n"
     ]
    }
   ],
   "source": [
    "print(\"The accuracy score of the 2nd decision tree for Train is {:.4f}\"\n",
    "      .format(dt2.score(X_train, y_train)))"
   ]
  },
  {
   "cell_type": "code",
   "execution_count": 85,
   "id": "d18e053c",
   "metadata": {},
   "outputs": [
    {
     "name": "stdout",
     "output_type": "stream",
     "text": [
      "The accuracy score of the 2nd decision tree for Test is 0.8986\n"
     ]
    }
   ],
   "source": [
    "print(\"The accuracy score of the 2nd decision tree for Test is {:.4f}\"\n",
    "      .format(dt2.score(X_test, y_test)))"
   ]
  },
  {
   "cell_type": "markdown",
   "id": "8520f500",
   "metadata": {},
   "source": [
    "The second tree with max_depth = 5 did a little better so it is better to use n_neighbors = 5."
   ]
  },
  {
   "cell_type": "code",
   "execution_count": null,
   "id": "f16fca1f",
   "metadata": {},
   "outputs": [],
   "source": []
  },
  {
   "cell_type": "markdown",
   "id": "847162cf",
   "metadata": {},
   "source": [
    "##  <font color= blue>SVM - Support Vector Machine</font>"
   ]
  },
  {
   "cell_type": "code",
   "execution_count": 87,
   "id": "0b7484b0",
   "metadata": {},
   "outputs": [
    {
     "name": "stdout",
     "output_type": "stream",
     "text": [
      "The accuracy of the SVC for train is 90.6187%\n",
      "The accuracy of the SVC for test is 89.8788%\n"
     ]
    }
   ],
   "source": [
    "svc = SVC()\n",
    "svc.fit(X_train, y_train)\n",
    "\n",
    "# score the model \n",
    "print(\"The accuracy of the SVC for train is {:.4%}\".format(svc.score(X_train, y_train)))\n",
    "print(\"The accuracy of the SVC for test is {:.4%}\".format(svc.score(X_test, y_test)))"
   ]
  },
  {
   "cell_type": "code",
   "execution_count": 88,
   "id": "fb414e20",
   "metadata": {},
   "outputs": [],
   "source": [
    "# I'm only using the depault params for SVM because this dataset is very large and a \n",
    "# grid search will take a lot of time. SVM in general has a potential for very high accurcy."
   ]
  },
  {
   "cell_type": "code",
   "execution_count": null,
   "id": "339d5efe",
   "metadata": {},
   "outputs": [],
   "source": []
  },
  {
   "cell_type": "markdown",
   "id": "f28c0396",
   "metadata": {},
   "source": [
    "# <font color= darkblue>Findings and Recommendations</font>"
   ]
  },
  {
   "cell_type": "markdown",
   "id": "b78000f9",
   "metadata": {},
   "source": [
    "In this project, I worked with a bank marketing campaign data. The data included details about the customers such as age and their occupation (job column).\n",
    "The purpose was to find the best classifying model that will coreectly predict which client subscribed a term deposit (binary: \"yes\",\"no\" = 1/0).\n",
    "\n",
    "The dataset has more than 45,000 entries. I droped 2 non-relevant columns about date of last contact with the client. Moajority of 14 remaining columns are categorical. From which I changed some to have integer number value (like way of contact, education abd marital status.\n"
   ]
  },
  {
   "cell_type": "markdown",
   "id": "b2f9212b",
   "metadata": {},
   "source": [
    "I used 4 classifying models: KNN (K nearest Neighbors), Logistic Regression, Decision Tree and SVM. All had better test set score than the dummy classifier.\n",
    "\n",
    "The accuracy score of KNN for Test is:  0.8915\n",
    "The accuracy score of Logistic Regresion for Test is 0.8984\n",
    "The accuracy score of Decision Tree for Test is 0.8986\n",
    "The accuracy of the SVC for test is 89.8788%\n",
    "\n",
    "Decision Tree model did the best, though as you can see all test scores where very similar to each other.\n",
    "\n",
    "From the Logistic Regression results I learned about the feature that contribute most to the success of engaging a client for a term deposit. Those features are:\n",
    "\n",
    "poutcome_success      1.7392\n",
    "duration              1.0432\n",
    "job_student           0.7746\n",
    "job_retired           0.5176\n",
    "contact               0.4921\n",
    "\n",
    "poutcome is the outcome of the last marketing campain.\n",
    "duration is the last marketing cal duration.\n",
    "contact is the way of contact: phone, cell phone.\n",
    "\n",
    "We can see that the population groups most likely to be convince to make a term deposit are students and retirees. Thas it is recommended to reach out more to those populations, and better reach out to other emplyment-type groups to better engage them with the bank products.\n",
    "The features importants results it very valuable to reach out and have a one on one sales call with a client. It proves to be very effective for sales.\n",
    "\n"
   ]
  },
  {
   "cell_type": "code",
   "execution_count": null,
   "id": "4fb6daa5",
   "metadata": {},
   "outputs": [],
   "source": []
  },
  {
   "cell_type": "code",
   "execution_count": null,
   "id": "a2805086",
   "metadata": {},
   "outputs": [],
   "source": []
  }
 ],
 "metadata": {
  "kernelspec": {
   "display_name": "Python 3 (ipykernel)",
   "language": "python",
   "name": "python3"
  },
  "language_info": {
   "codemirror_mode": {
    "name": "ipython",
    "version": 3
   },
   "file_extension": ".py",
   "mimetype": "text/x-python",
   "name": "python",
   "nbconvert_exporter": "python",
   "pygments_lexer": "ipython3",
   "version": "3.9.12"
  }
 },
 "nbformat": 4,
 "nbformat_minor": 5
}
